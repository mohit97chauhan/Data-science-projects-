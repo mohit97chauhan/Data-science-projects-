{
 "cells": [
  {
   "cell_type": "markdown",
   "id": "eaeda365",
   "metadata": {},
   "source": [
    "# Finding Square Root\n",
    "\n",
    "Before going into the linear regression, we will start with the simple machine learning problem of finding the square root of a number"
   ]
  },
  {
   "cell_type": "markdown",
   "id": "1516ded4",
   "metadata": {},
   "source": [
    "#### Algorithm - 1 \n",
    "\n",
    "First algorithm we will use is that we will average the values between min and max, then check how close we are to the result"
   ]
  },
  {
   "cell_type": "code",
   "execution_count": 2,
   "id": "a98f1993",
   "metadata": {},
   "outputs": [
    {
     "data": {
      "text/plain": [
       "1.7320556640625"
      ]
     },
     "execution_count": 2,
     "metadata": {},
     "output_type": "execute_result"
    }
   ],
   "source": [
    "def get_square_root(n):\n",
    "    min_val = 1\n",
    "    max_val = n\n",
    "    avg_val = (1+n)/2\n",
    "    error = (avg_val)**2 - n\n",
    "    while abs(error)>0.0001:\n",
    "        if error>0:\n",
    "            max_val = avg_val\n",
    "        else:\n",
    "            min_val = avg_val\n",
    "        \n",
    "        avg_val = (min_val + max_val)/2\n",
    "        error = (avg_val)**2 - 3\n",
    "    return avg_val\n",
    "\n",
    "get_square_root(3)"
   ]
  },
  {
   "cell_type": "code",
   "execution_count": 93,
   "id": "ee32f445",
   "metadata": {},
   "outputs": [
    {
     "data": {
      "text/plain": [
       "1.7320508075688772"
      ]
     },
     "execution_count": 93,
     "metadata": {},
     "output_type": "execute_result"
    }
   ],
   "source": [
    "np.sqrt(3)"
   ]
  },
  {
   "cell_type": "markdown",
   "id": "936fcb11",
   "metadata": {},
   "source": [
    "### Algorithm - 2\n",
    "Here we use the property that AM>=GM"
   ]
  },
  {
   "cell_type": "code",
   "execution_count": 67,
   "id": "eec23824",
   "metadata": {},
   "outputs": [
    {
     "data": {
      "text/plain": [
       "1.7321428571428572"
      ]
     },
     "execution_count": 67,
     "metadata": {},
     "output_type": "execute_result"
    }
   ],
   "source": [
    "def get_square_root(n):\n",
    "    arithmetic_mean = (1+n)/2\n",
    "    error = arithmetic_mean**2 - 3\n",
    "    while error>0.001:\n",
    "        arithmetic_mean = (n/arithmetic_mean + arithmetic_mean)/2\n",
    "        error = arithmetic_mean**2 - 3\n",
    "    \n",
    "    return arithmetic_mean\n",
    "\n",
    "get_square_root(3)"
   ]
  },
  {
   "cell_type": "markdown",
   "id": "43db4341",
   "metadata": {},
   "source": [
    "### Algorithm - 3\n",
    "We use gradient descent approach\n",
    "Let f(x) = x^2 - 3\n",
    "\n",
    "Now, we find the root of the above function"
   ]
  },
  {
   "cell_type": "code",
   "execution_count": 3,
   "id": "64178b1b",
   "metadata": {},
   "outputs": [
    {
     "data": {
      "text/plain": [
       "1.7321428571428572"
      ]
     },
     "execution_count": 3,
     "metadata": {},
     "output_type": "execute_result"
    }
   ],
   "source": [
    "def gradient_descent(n):\n",
    "    initial_guess = n/2\n",
    "    error = initial_guess**2 - 3\n",
    "    previous_val = initial_guess\n",
    "    while abs(error)>0.001:\n",
    "        next_val = previous_val - (previous_val**2 - 3)/(2*previous_val)\n",
    "        error = next_val**2 - 3\n",
    "        previous_val = next_val\n",
    "    return next_val\n",
    "\n",
    "gradient_descent(3)"
   ]
  },
  {
   "cell_type": "markdown",
   "id": "a2174519",
   "metadata": {},
   "source": [
    "# Linear Regression"
   ]
  },
  {
   "cell_type": "markdown",
   "id": "6dfb0e72",
   "metadata": {},
   "source": [
    "### Load the housing dataset"
   ]
  },
  {
   "cell_type": "code",
   "execution_count": 5,
   "id": "1327fec2",
   "metadata": {},
   "outputs": [
    {
     "data": {
      "text/html": [
       "<div>\n",
       "<style scoped>\n",
       "    .dataframe tbody tr th:only-of-type {\n",
       "        vertical-align: middle;\n",
       "    }\n",
       "\n",
       "    .dataframe tbody tr th {\n",
       "        vertical-align: top;\n",
       "    }\n",
       "\n",
       "    .dataframe thead th {\n",
       "        text-align: right;\n",
       "    }\n",
       "</style>\n",
       "<table border=\"1\" class=\"dataframe\">\n",
       "  <thead>\n",
       "    <tr style=\"text-align: right;\">\n",
       "      <th></th>\n",
       "      <th>price</th>\n",
       "      <th>area</th>\n",
       "      <th>bedrooms</th>\n",
       "      <th>bathrooms</th>\n",
       "      <th>stories</th>\n",
       "      <th>mainroad</th>\n",
       "      <th>guestroom</th>\n",
       "      <th>basement</th>\n",
       "      <th>hotwaterheating</th>\n",
       "      <th>airconditioning</th>\n",
       "      <th>parking</th>\n",
       "      <th>prefarea</th>\n",
       "      <th>furnishingstatus</th>\n",
       "    </tr>\n",
       "  </thead>\n",
       "  <tbody>\n",
       "    <tr>\n",
       "      <th>0</th>\n",
       "      <td>13300000</td>\n",
       "      <td>7420</td>\n",
       "      <td>4</td>\n",
       "      <td>2</td>\n",
       "      <td>3</td>\n",
       "      <td>yes</td>\n",
       "      <td>no</td>\n",
       "      <td>no</td>\n",
       "      <td>no</td>\n",
       "      <td>yes</td>\n",
       "      <td>2</td>\n",
       "      <td>yes</td>\n",
       "      <td>furnished</td>\n",
       "    </tr>\n",
       "    <tr>\n",
       "      <th>1</th>\n",
       "      <td>12250000</td>\n",
       "      <td>8960</td>\n",
       "      <td>4</td>\n",
       "      <td>4</td>\n",
       "      <td>4</td>\n",
       "      <td>yes</td>\n",
       "      <td>no</td>\n",
       "      <td>no</td>\n",
       "      <td>no</td>\n",
       "      <td>yes</td>\n",
       "      <td>3</td>\n",
       "      <td>no</td>\n",
       "      <td>furnished</td>\n",
       "    </tr>\n",
       "    <tr>\n",
       "      <th>2</th>\n",
       "      <td>12250000</td>\n",
       "      <td>9960</td>\n",
       "      <td>3</td>\n",
       "      <td>2</td>\n",
       "      <td>2</td>\n",
       "      <td>yes</td>\n",
       "      <td>no</td>\n",
       "      <td>yes</td>\n",
       "      <td>no</td>\n",
       "      <td>no</td>\n",
       "      <td>2</td>\n",
       "      <td>yes</td>\n",
       "      <td>semi-furnished</td>\n",
       "    </tr>\n",
       "    <tr>\n",
       "      <th>3</th>\n",
       "      <td>12215000</td>\n",
       "      <td>7500</td>\n",
       "      <td>4</td>\n",
       "      <td>2</td>\n",
       "      <td>2</td>\n",
       "      <td>yes</td>\n",
       "      <td>no</td>\n",
       "      <td>yes</td>\n",
       "      <td>no</td>\n",
       "      <td>yes</td>\n",
       "      <td>3</td>\n",
       "      <td>yes</td>\n",
       "      <td>furnished</td>\n",
       "    </tr>\n",
       "    <tr>\n",
       "      <th>4</th>\n",
       "      <td>11410000</td>\n",
       "      <td>7420</td>\n",
       "      <td>4</td>\n",
       "      <td>1</td>\n",
       "      <td>2</td>\n",
       "      <td>yes</td>\n",
       "      <td>yes</td>\n",
       "      <td>yes</td>\n",
       "      <td>no</td>\n",
       "      <td>yes</td>\n",
       "      <td>2</td>\n",
       "      <td>no</td>\n",
       "      <td>furnished</td>\n",
       "    </tr>\n",
       "  </tbody>\n",
       "</table>\n",
       "</div>"
      ],
      "text/plain": [
       "      price  area  bedrooms  bathrooms  stories mainroad guestroom basement  \\\n",
       "0  13300000  7420         4          2        3      yes        no       no   \n",
       "1  12250000  8960         4          4        4      yes        no       no   \n",
       "2  12250000  9960         3          2        2      yes        no      yes   \n",
       "3  12215000  7500         4          2        2      yes        no      yes   \n",
       "4  11410000  7420         4          1        2      yes       yes      yes   \n",
       "\n",
       "  hotwaterheating airconditioning  parking prefarea furnishingstatus  \n",
       "0              no             yes        2      yes        furnished  \n",
       "1              no             yes        3       no        furnished  \n",
       "2              no              no        2      yes   semi-furnished  \n",
       "3              no             yes        3      yes        furnished  \n",
       "4              no             yes        2       no        furnished  "
      ]
     },
     "execution_count": 5,
     "metadata": {},
     "output_type": "execute_result"
    }
   ],
   "source": [
    "import pandas as pd\n",
    "\n",
    "housing_df = pd.read_csv(\"datasets/housing.csv\")\n",
    "housing_df.head()"
   ]
  },
  {
   "cell_type": "markdown",
   "id": "1a58a5c3",
   "metadata": {},
   "source": [
    "#### Let's check price and area of the housing df"
   ]
  },
  {
   "cell_type": "code",
   "execution_count": 6,
   "id": "3c77c46d",
   "metadata": {},
   "outputs": [
    {
     "data": {
      "image/png": "[encoded data removed]",
      "text/plain": [
       "<Figure size 640x480 with 1 Axes>"
      ]
     },
     "metadata": {},
     "output_type": "display_data"
    }
   ],
   "source": [
    "import matplotlib.pyplot as plt\n",
    "\n",
    "# We have the housing data, let's do a quick scatter plot of price and the area\n",
    "plt.figure()\n",
    "# plot\n",
    "plt.scatter(housing_df['area'], housing_df['price'], s=10)\n",
    "\n",
    "# add a label to the x axis\n",
    "plt.xlabel('Area of the house in square feet')\n",
    "# add a label to the y axis\n",
    "plt.ylabel('Price of the house in INR')\n",
    "# add a title\n",
    "plt.title('Relationship between Area and Price of house');"
   ]
  },
  {
   "cell_type": "code",
   "execution_count": 7,
   "id": "a09a63f6",
   "metadata": {},
   "outputs": [
    {
     "data": {
      "text/plain": [
       "Index(['price', 'area', 'bedrooms', 'bathrooms', 'stories', 'mainroad',\n",
       "       'guestroom', 'basement', 'hotwaterheating', 'airconditioning',\n",
       "       'parking', 'prefarea', 'furnishingstatus'],\n",
       "      dtype='object')"
      ]
     },
     "execution_count": 7,
     "metadata": {},
     "output_type": "execute_result"
    }
   ],
   "source": [
    "housing_df.columns"
   ]
  },
  {
   "cell_type": "markdown",
   "id": "0c29574d",
   "metadata": {},
   "source": [
    "### Now we fit simple linear regression model\n",
    "Not that we are using statsmodels module to fit the linear regression. We are using OLS function which stands for ordinary least squares regression. We have to provide the formula in that. Formula is in format:\n",
    "\\<dependent variable\\> ~ \\<independent variable\\>\n",
    "\n",
    "Once we define the above, we need to call fit() function on this to fit the regression line. The regression line that is fit will store the result in the variable.\n",
    "\n",
    "From the result variable stored, we will then look at the summary() to get the basic stats of linear regression"
   ]
  },
  {
   "cell_type": "code",
   "execution_count": 8,
   "id": "4cd17bd4",
   "metadata": {},
   "outputs": [
    {
     "data": {
      "text/html": [
       "<style>#sk-container-id-1 {color: black;background-color: white;}#sk-container-id-1 pre{padding: 0;}#sk-container-id-1 div.sk-toggleable {background-color: white;}#sk-container-id-1 label.sk-toggleable__label {cursor: pointer;display: block;width: 100%;margin-bottom: 0;padding: 0.3em;box-sizing: border-box;text-align: center;}#sk-container-id-1 label.sk-toggleable__label-arrow:before {content: \"▸\";float: left;margin-right: 0.25em;color: #696969;}#sk-container-id-1 label.sk-toggleable__label-arrow:hover:before {color: black;}#sk-container-id-1 div.sk-estimator:hover label.sk-toggleable__label-arrow:before {color: black;}#sk-container-id-1 div.sk-toggleable__content {max-height: 0;max-width: 0;overflow: hidden;text-align: left;background-color: #f0f8ff;}#sk-container-id-1 div.sk-toggleable__content pre {margin: 0.2em;color: black;border-radius: 0.25em;background-color: #f0f8ff;}#sk-container-id-1 input.sk-toggleable__control:checked~div.sk-toggleable__content {max-height: 200px;max-width: 100%;overflow: auto;}#sk-container-id-1 input.sk-toggleable__control:checked~label.sk-toggleable__label-arrow:before {content: \"▾\";}#sk-container-id-1 div.sk-estimator input.sk-toggleable__control:checked~label.sk-toggleable__label {background-color: #d4ebff;}#sk-container-id-1 div.sk-label input.sk-toggleable__control:checked~label.sk-toggleable__label {background-color: #d4ebff;}#sk-container-id-1 input.sk-hidden--visually {border: 0;clip: rect(1px 1px 1px 1px);clip: rect(1px, 1px, 1px, 1px);height: 1px;margin: -1px;overflow: hidden;padding: 0;position: absolute;width: 1px;}#sk-container-id-1 div.sk-estimator {font-family: monospace;background-color: #f0f8ff;border: 1px dotted black;border-radius: 0.25em;box-sizing: border-box;margin-bottom: 0.5em;}#sk-container-id-1 div.sk-estimator:hover {background-color: #d4ebff;}#sk-container-id-1 div.sk-parallel-item::after {content: \"\";width: 100%;border-bottom: 1px solid gray;flex-grow: 1;}#sk-container-id-1 div.sk-label:hover label.sk-toggleable__label {background-color: #d4ebff;}#sk-container-id-1 div.sk-serial::before {content: \"\";position: absolute;border-left: 1px solid gray;box-sizing: border-box;top: 0;bottom: 0;left: 50%;z-index: 0;}#sk-container-id-1 div.sk-serial {display: flex;flex-direction: column;align-items: center;background-color: white;padding-right: 0.2em;padding-left: 0.2em;position: relative;}#sk-container-id-1 div.sk-item {position: relative;z-index: 1;}#sk-container-id-1 div.sk-parallel {display: flex;align-items: stretch;justify-content: center;background-color: white;position: relative;}#sk-container-id-1 div.sk-item::before, #sk-container-id-1 div.sk-parallel-item::before {content: \"\";position: absolute;border-left: 1px solid gray;box-sizing: border-box;top: 0;bottom: 0;left: 50%;z-index: -1;}#sk-container-id-1 div.sk-parallel-item {display: flex;flex-direction: column;z-index: 1;position: relative;background-color: white;}#sk-container-id-1 div.sk-parallel-item:first-child::after {align-self: flex-end;width: 50%;}#sk-container-id-1 div.sk-parallel-item:last-child::after {align-self: flex-start;width: 50%;}#sk-container-id-1 div.sk-parallel-item:only-child::after {width: 0;}#sk-container-id-1 div.sk-dashed-wrapped {border: 1px dashed gray;margin: 0 0.4em 0.5em 0.4em;box-sizing: border-box;padding-bottom: 0.4em;background-color: white;}#sk-container-id-1 div.sk-label label {font-family: monospace;font-weight: bold;display: inline-block;line-height: 1.2em;}#sk-container-id-1 div.sk-label-container {text-align: center;}#sk-container-id-1 div.sk-container {/* jupyter's `normalize.less` sets `[hidden] { display: none; }` but bootstrap.min.css set `[hidden] { display: none !important; }` so we also need the `!important` here to be able to override the default hidden behavior on the sphinx rendered scikit-learn.org. See: https://github.com/scikit-learn/scikit-learn/issues/21755 */display: inline-block !important;position: relative;}#sk-container-id-1 div.sk-text-repr-fallback {display: none;}</style><div id=\"sk-container-id-1\" class=\"sk-top-container\"><div class=\"sk-text-repr-fallback\"><pre>LinearRegression()</pre><b>In a Jupyter environment, please rerun this cell to show the HTML representation or trust the notebook. <br />On GitHub, the HTML representation is unable to render, please try loading this page with nbviewer.org.</b></div><div class=\"sk-container\" hidden><div class=\"sk-item\"><div class=\"sk-estimator sk-toggleable\"><input class=\"sk-toggleable__control sk-hidden--visually\" id=\"sk-estimator-id-1\" type=\"checkbox\" checked><label for=\"sk-estimator-id-1\" class=\"sk-toggleable__label sk-toggleable__label-arrow\">LinearRegression</label><div class=\"sk-toggleable__content\"><pre>LinearRegression()</pre></div></div></div></div></div>"
      ],
      "text/plain": [
       "LinearRegression()"
      ]
     },
     "execution_count": 8,
     "metadata": {},
     "output_type": "execute_result"
    }
   ],
   "source": [
    "from sklearn.linear_model import LinearRegression\n",
    "\n",
    "model = LinearRegression()\n",
    "model.fit(housing_df[['area']], housing_df[['price']])\n"
   ]
  },
  {
   "cell_type": "code",
   "execution_count": 9,
   "id": "e8000762",
   "metadata": {},
   "outputs": [],
   "source": [
    "from sklearn.metrics import r2_score"
   ]
  },
  {
   "cell_type": "code",
   "execution_count": 10,
   "id": "ae4bfeb5",
   "metadata": {},
   "outputs": [
    {
     "data": {
      "text/plain": [
       "0.2872931546811468"
      ]
     },
     "execution_count": 10,
     "metadata": {},
     "output_type": "execute_result"
    }
   ],
   "source": [
    "r2_score(housing_df[['price']], model.predict(housing_df[['area']]))"
   ]
  },
  {
   "cell_type": "code",
   "execution_count": 18,
   "id": "e5f6622e",
   "metadata": {},
   "outputs": [
    {
     "name": "stdout",
     "output_type": "stream",
     "text": [
      "                            OLS Regression Results                            \n",
      "==============================================================================\n",
      "Dep. Variable:                  price   R-squared:                       0.287\n",
      "Model:                            OLS   Adj. R-squared:                  0.286\n",
      "Method:                 Least Squares   F-statistic:                     218.9\n",
      "Date:                Sun, 17 Dec 2023   Prob (F-statistic):           7.39e-42\n",
      "Time:                        16:06:37   Log-Likelihood:                -8551.2\n",
      "No. Observations:                 545   AIC:                         1.711e+04\n",
      "Df Residuals:                     543   BIC:                         1.712e+04\n",
      "Df Model:                           1                                         \n",
      "Covariance Type:            nonrobust                                         \n",
      "==============================================================================\n",
      "                 coef    std err          t      P>|t|      [0.025      0.975]\n",
      "------------------------------------------------------------------------------\n",
      "Intercept   2.387e+06   1.74e+05     13.681      0.000    2.04e+06    2.73e+06\n",
      "area         461.9749     31.226     14.795      0.000     400.637     523.313\n",
      "==============================================================================\n",
      "Omnibus:                       92.668   Durbin-Watson:                   0.565\n",
      "Prob(Omnibus):                  0.000   Jarque-Bera (JB):              183.673\n",
      "Skew:                           0.954   Prob(JB):                     1.31e-40\n",
      "Kurtosis:                       5.108   Cond. No.                     1.44e+04\n",
      "==============================================================================\n",
      "\n",
      "Notes:\n",
      "[1] Standard Errors assume that the covariance matrix of the errors is correctly specified.\n",
      "[2] The condition number is large, 1.44e+04. This might indicate that there are\n",
      "strong multicollinearity or other numerical problems.\n"
     ]
    }
   ],
   "source": [
    "import statsmodels.formula.api as smf\n",
    "import numpy as np\n",
    "# performing the regression\n",
    "result = smf.ols(formula='price ~ area', data=housing_df).fit()\n",
    "# result = smf.ols(formula=\"\"\"\n",
    "# price ~ area + bathrooms + stories +  C(parking) +\n",
    "# C(furnishingstatus) + C(mainroad) + C(basement) + C(hotwaterheating) +\n",
    "# C(airconditioning) + C(prefarea)\n",
    "# \"\"\", data=housing_df).fit()\n",
    "\n",
    "# Result of statsmodels \n",
    "print(result.summary())"
   ]
  },
  {
   "cell_type": "markdown",
   "id": "00183c80",
   "metadata": {},
   "source": [
    "## Interpretation of OLS Regression"
   ]
  },
  {
   "cell_type": "markdown",
   "id": "66765044",
   "metadata": {},
   "source": [
    "### Interpreting coefficients and slope\n",
    "Note the value under \"coef\" column in the summary table. There are two values, one \"Intercept\" and the other is \"area\". As you remember the linear regression line equation, y = b0 + b1(x), b0 is same as the intercept and b1 is equal to value of area.\n",
    "\n",
    "So, final equation will be Price = 2.38 * 10^6 + 461.97 * area, with this line equation we can find find price for any house with any area."
   ]
  },
  {
   "cell_type": "code",
   "execution_count": 19,
   "id": "5b37c741",
   "metadata": {},
   "outputs": [
    {
     "data": {
      "text/plain": [
       "2387308.482396431"
      ]
     },
     "execution_count": 19,
     "metadata": {},
     "output_type": "execute_result"
    }
   ],
   "source": [
    "# To get the intercept value\n",
    "b0 = result.params.Intercept\n",
    "b0"
   ]
  },
  {
   "cell_type": "code",
   "execution_count": 20,
   "id": "6543a733",
   "metadata": {},
   "outputs": [
    {
     "data": {
      "text/plain": [
       "461.97489427278344"
      ]
     },
     "execution_count": 20,
     "metadata": {},
     "output_type": "execute_result"
    }
   ],
   "source": [
    "# To get the slope value for are\n",
    "b1 = result.params.area\n",
    "b1"
   ]
  },
  {
   "cell_type": "code",
   "execution_count": 22,
   "id": "d270b771",
   "metadata": {},
   "outputs": [
    {
     "data": {
      "text/html": [
       "<div>\n",
       "<style scoped>\n",
       "    .dataframe tbody tr th:only-of-type {\n",
       "        vertical-align: middle;\n",
       "    }\n",
       "\n",
       "    .dataframe tbody tr th {\n",
       "        vertical-align: top;\n",
       "    }\n",
       "\n",
       "    .dataframe thead th {\n",
       "        text-align: right;\n",
       "    }\n",
       "</style>\n",
       "<table border=\"1\" class=\"dataframe\">\n",
       "  <thead>\n",
       "    <tr style=\"text-align: right;\">\n",
       "      <th></th>\n",
       "      <th>mean</th>\n",
       "      <th>mean_se</th>\n",
       "      <th>mean_ci_lower</th>\n",
       "      <th>mean_ci_upper</th>\n",
       "      <th>obs_ci_lower</th>\n",
       "      <th>obs_ci_upper</th>\n",
       "    </tr>\n",
       "  </thead>\n",
       "  <tbody>\n",
       "    <tr>\n",
       "      <th>0</th>\n",
       "      <td>9.316932e+06</td>\n",
       "      <td>314919.021893</td>\n",
       "      <td>8.698323e+06</td>\n",
       "      <td>9.935541e+06</td>\n",
       "      <td>6.151229e+06</td>\n",
       "      <td>1.248263e+07</td>\n",
       "    </tr>\n",
       "  </tbody>\n",
       "</table>\n",
       "</div>"
      ],
      "text/plain": [
       "           mean        mean_se  mean_ci_lower  mean_ci_upper  obs_ci_lower  \\\n",
       "0  9.316932e+06  314919.021893   8.698323e+06   9.935541e+06  6.151229e+06   \n",
       "\n",
       "   obs_ci_upper  \n",
       "0  1.248263e+07  "
      ]
     },
     "execution_count": 22,
     "metadata": {},
     "output_type": "execute_result"
    }
   ],
   "source": [
    "# Final regression line equation is\n",
    "# y_pred = b0 + b1 * area, where b0 = 2387308, and b1 = 461.974\n",
    "result.get_prediction(pd.Series([15000], name='area')).summary_frame(alpha=0.05)"
   ]
  },
  {
   "cell_type": "code",
   "execution_count": 47,
   "id": "6e86334b",
   "metadata": {},
   "outputs": [
    {
     "name": "stdout",
     "output_type": "stream",
     "text": [
      "(436, 13)\n",
      "(109, 13)\n"
     ]
    }
   ],
   "source": [
    "import numpy as np\n",
    "test_df = housing_df.sample(frac=0.2)\n",
    "train_df = housing_df[~housing_df.index.isin(test_df.index)]\n",
    "print(train_df.shape)\n",
    "print(test_df.shape)"
   ]
  },
  {
   "cell_type": "code",
   "execution_count": 31,
   "id": "1e6aa6b8",
   "metadata": {},
   "outputs": [
    {
     "name": "stdout",
     "output_type": "stream",
     "text": [
      "                            OLS Regression Results                            \n",
      "==============================================================================\n",
      "Dep. Variable:                  price   R-squared:                       0.685\n",
      "Model:                            OLS   Adj. R-squared:                  0.676\n",
      "Method:                 Least Squares   F-statistic:                     70.69\n",
      "Date:                Sun, 17 Dec 2023   Prob (F-statistic):           3.33e-97\n",
      "Time:                        16:14:15   Log-Likelihood:                -6680.2\n",
      "No. Observations:                 436   AIC:                         1.339e+04\n",
      "Df Residuals:                     422   BIC:                         1.345e+04\n",
      "Df Model:                          13                                         \n",
      "Covariance Type:            nonrobust                                         \n",
      "=========================================================================================================\n",
      "                                            coef    std err          t      P>|t|      [0.025      0.975]\n",
      "---------------------------------------------------------------------------------------------------------\n",
      "Intercept                              1.043e+05   2.59e+05      0.402      0.688   -4.06e+05    6.14e+05\n",
      "C(parking)[T.1]                        3.335e+05   1.38e+05      2.410      0.016    6.15e+04    6.06e+05\n",
      "C(parking)[T.2]                          6.7e+05   1.51e+05      4.439      0.000    3.73e+05    9.67e+05\n",
      "C(parking)[T.3]                        5.055e+05   3.88e+05      1.302      0.194   -2.58e+05    1.27e+06\n",
      "C(furnishingstatus)[T.semi-furnished] -3.483e+04   1.36e+05     -0.255      0.798   -3.03e+05    2.33e+05\n",
      "C(furnishingstatus)[T.unfurnished]    -3.882e+05   1.46e+05     -2.656      0.008   -6.75e+05   -1.01e+05\n",
      "C(mainroad)[T.yes]                     3.306e+05   1.67e+05      1.979      0.048    2248.469    6.59e+05\n",
      "C(basement)[T.yes]                     4.618e+05   1.17e+05      3.933      0.000    2.31e+05    6.93e+05\n",
      "C(hotwaterheating)[T.yes]              6.435e+05   2.55e+05      2.524      0.012    1.42e+05    1.14e+06\n",
      "C(airconditioning)[T.yes]              9.239e+05   1.24e+05      7.466      0.000    6.81e+05    1.17e+06\n",
      "C(prefarea)[T.yes]                     7.099e+05   1.33e+05      5.334      0.000    4.48e+05    9.72e+05\n",
      "area                                    280.7625     28.945      9.700      0.000     223.869     337.656\n",
      "bathrooms                              1.064e+06   1.19e+05      8.929      0.000     8.3e+05     1.3e+06\n",
      "stories                                4.764e+05   6.97e+04      6.838      0.000    3.39e+05    6.13e+05\n",
      "==============================================================================\n",
      "Omnibus:                       75.867   Durbin-Watson:                   1.206\n",
      "Prob(Omnibus):                  0.000   Jarque-Bera (JB):              176.901\n",
      "Skew:                           0.891   Prob(JB):                     3.86e-39\n",
      "Kurtosis:                       5.562   Cond. No.                     4.12e+04\n",
      "==============================================================================\n",
      "\n",
      "Notes:\n",
      "[1] Standard Errors assume that the covariance matrix of the errors is correctly specified.\n",
      "[2] The condition number is large, 4.12e+04. This might indicate that there are\n",
      "strong multicollinearity or other numerical problems.\n"
     ]
    }
   ],
   "source": [
    "final_model = smf.ols(formula=\"\"\"\n",
    "price ~ area + bathrooms + stories +  C(parking) +\n",
    "C(furnishingstatus) + C(mainroad) + C(basement) + C(hotwaterheating) +\n",
    "C(airconditioning) + C(prefarea)\n",
    "\"\"\", data=train_df).fit()\n",
    "print(final_model.summary())"
   ]
  },
  {
   "cell_type": "code",
   "execution_count": 48,
   "id": "b5a538e2",
   "metadata": {},
   "outputs": [
    {
     "data": {
      "text/html": [
       "<div>\n",
       "<style scoped>\n",
       "    .dataframe tbody tr th:only-of-type {\n",
       "        vertical-align: middle;\n",
       "    }\n",
       "\n",
       "    .dataframe tbody tr th {\n",
       "        vertical-align: top;\n",
       "    }\n",
       "\n",
       "    .dataframe thead th {\n",
       "        text-align: right;\n",
       "    }\n",
       "</style>\n",
       "<table border=\"1\" class=\"dataframe\">\n",
       "  <thead>\n",
       "    <tr style=\"text-align: right;\">\n",
       "      <th></th>\n",
       "      <th>Predicted</th>\n",
       "      <th>Actual</th>\n",
       "    </tr>\n",
       "  </thead>\n",
       "  <tbody>\n",
       "    <tr>\n",
       "      <th>0</th>\n",
       "      <td>4.297813e+06</td>\n",
       "      <td>2380000.0</td>\n",
       "    </tr>\n",
       "    <tr>\n",
       "      <th>1</th>\n",
       "      <td>2.737174e+06</td>\n",
       "      <td>2100000.0</td>\n",
       "    </tr>\n",
       "    <tr>\n",
       "      <th>2</th>\n",
       "      <td>3.082757e+06</td>\n",
       "      <td>4340000.0</td>\n",
       "    </tr>\n",
       "    <tr>\n",
       "      <th>3</th>\n",
       "      <td>3.769985e+06</td>\n",
       "      <td>3780000.0</td>\n",
       "    </tr>\n",
       "    <tr>\n",
       "      <th>4</th>\n",
       "      <td>5.772570e+06</td>\n",
       "      <td>5250000.0</td>\n",
       "    </tr>\n",
       "  </tbody>\n",
       "</table>\n",
       "</div>"
      ],
      "text/plain": [
       "      Predicted     Actual\n",
       "0  4.297813e+06  2380000.0\n",
       "1  2.737174e+06  2100000.0\n",
       "2  3.082757e+06  4340000.0\n",
       "3  3.769985e+06  3780000.0\n",
       "4  5.772570e+06  5250000.0"
      ]
     },
     "execution_count": 48,
     "metadata": {},
     "output_type": "execute_result"
    }
   ],
   "source": [
    "test_predictions = final_model.get_prediction(test_df.iloc[:, 1:]).summary_frame(alpha=0.05)['mean'].tolist()\n",
    "test_actual = test_df.price.tolist()\n",
    "test_predictions_df = pd.DataFrame([test_predictions, test_actual]).T\n",
    "test_predictions_df.columns = ['Predicted', 'Actual']\n",
    "test_predictions_df.head()"
   ]
  },
  {
   "cell_type": "code",
   "execution_count": 51,
   "id": "8dd14c09",
   "metadata": {},
   "outputs": [
    {
     "data": {
      "text/plain": [
       "0.5391221412610341"
      ]
     },
     "execution_count": 51,
     "metadata": {},
     "output_type": "execute_result"
    }
   ],
   "source": [
    "from sklearn.metrics import r2_score\n",
    "\n",
    "r2_score(test_predictions_df[['Predicted']], test_predictions_df[['Actual']])"
   ]
  },
  {
   "cell_type": "code",
   "execution_count": 50,
   "id": "c52887b4",
   "metadata": {},
   "outputs": [
    {
     "data": {
      "image/png": "[encoded data removed]",
      "text/plain": [
       "<Figure size 640x480 with 1 Axes>"
      ]
     },
     "metadata": {},
     "output_type": "display_data"
    }
   ],
   "source": [
    "import matplotlib.pyplot as plt\n",
    "\n",
    "# We have the housing data, let's do a quick scatter plot of price and the area\n",
    "plt.figure()\n",
    "# plot\n",
    "plt.scatter(test_predictions_df['Predicted'], test_predictions_df['Actual'], color='red', s=10)\n",
    "\n",
    "# add a label to the x axis\n",
    "plt.xlabel('Predicted')\n",
    "# add a label to the y axis\n",
    "plt.ylabel('Actual')\n",
    "# add a title\n",
    "plt.title('Predicted vs Actual');"
   ]
  },
  {
   "cell_type": "markdown",
   "id": "24727393",
   "metadata": {},
   "source": [
    "#### Interpretation of intercept is the value of \"y\" when x is equal to zero. And interpretation of area coefficient is how much price increase with per unit increase in the area. So if you increase the area by 1 square foot, the price increases by 461.9748"
   ]
  },
  {
   "cell_type": "markdown",
   "id": "2656d243",
   "metadata": {},
   "source": [
    "### Plot the regression line"
   ]
  },
  {
   "cell_type": "code",
   "execution_count": 117,
   "id": "6ac375d5",
   "metadata": {},
   "outputs": [
    {
     "data": {
      "image/png": "[encoded data removed]",
      "text/plain": [
       "<Figure size 640x480 with 1 Axes>"
      ]
     },
     "metadata": {},
     "output_type": "display_data"
    }
   ],
   "source": [
    "import matplotlib.pyplot as plt\n",
    "\n",
    "# We have the housing data, let's do a quick scatter plot of price and the area\n",
    "plt.figure()\n",
    "# plot\n",
    "plt.scatter(housing_df['area'], housing_df['price'], s=5)\n",
    "plt.scatter(housing_df['area'], result.fittedvalues, color='red', s=10)\n",
    "\n",
    "# add a label to the x axis\n",
    "plt.xlabel('Area of the house in square feet')\n",
    "# add a label to the y axis\n",
    "plt.ylabel('Price of the house in INR')\n",
    "# add a title\n",
    "plt.title('Relationship between Area and Price of house');"
   ]
  },
  {
   "attachments": {
    "image.png": {
     "image/png": "[encoded data removed]"
    }
   },
   "cell_type": "markdown",
   "id": "d1af1d1b",
   "metadata": {},
   "source": [
    "### Interpretation of R2 value\n",
    "\n",
    "![image.png](attachment:image.png)\n",
    "\n",
    "Where:\n",
    "\n",
    "RSS = sum of squared residuals\n",
    "\n",
    "TSS = total sum of squares\n",
    "\n",
    "\n",
    "1. If the R2 is 0, the linear regression model doesn’t predict better than simply estimating that average y value.\n",
    "\n",
    "2. If the R2 is between 0 and 1, the model predict exam scores better than simply using the average.\n",
    "\n",
    "3. If the R2 is 1, the model perfectly predict\n"
   ]
  },
  {
   "cell_type": "code",
   "execution_count": 5,
   "id": "7b2fd239",
   "metadata": {},
   "outputs": [
    {
     "data": {
      "text/plain": [
       "0.2872931546811468"
      ]
     },
     "execution_count": 5,
     "metadata": {},
     "output_type": "execute_result"
    }
   ],
   "source": [
    "# In the above model we have R2 value of 0.287\n",
    "result.rsquared"
   ]
  },
  {
   "attachments": {
    "image.png": {
     "image/png": "[encoded data removed]"
    }
   },
   "cell_type": "markdown",
   "id": "5992fc79",
   "metadata": {},
   "source": [
    "### Interpretation of p-value of each coeff\n",
    "\n",
    "\n",
    "![image.png](attachment:image.png)\n",
    "\n",
    "\n",
    "If you look at the above ouput, we see apart from the value of coefficient we have other information as well. This is related to the hypothesis testing of each coefficient value.\n",
    "\n",
    "To know if a coefficient is statistically significant to predict the dependent variable we do hypothesis testing with H0 as the particular coefficient value is exactly 0 and H1 as that the particular coefficient value is not equal to 0.\n",
    "\n",
    "\n",
    "Due to assumptions of linear regression, we had assumed that error term is normally distributed. With that assumption we know that each coefficient will follow studentized-t distribution (which is almost like normal distribution). All the coefficient values have the t-statistic value as well in the regresion ouput under the column \"t\". std err\" is nothing but the standard deviation of the coefficient. \n",
    "\n",
    "\"P>|t|\" column is the p-value for our hypothesis testing. If p-value is low then we reject the null hypothesis (which is that coefficient average value is 0) and hence, the variable is significant for predicting the dependent variable.\n",
    "\n",
    "If p-value is high (usually >0.05) then we accept the null hypothesis (which is that coefficient average value is 0) and hence, the variable is not significant in predicting the dependent variable. We should remove such variables from our model"
   ]
  },
  {
   "cell_type": "code",
   "execution_count": 8,
   "id": "a8174b39",
   "metadata": {},
   "outputs": [
    {
     "data": {
      "text/plain": [
       "Intercept    8.056160e-37\n",
       "area         7.388225e-42\n",
       "dtype: float64"
      ]
     },
     "execution_count": 8,
     "metadata": {},
     "output_type": "execute_result"
    }
   ],
   "source": [
    "# p-values for the coefficient\n",
    "result.pvalues"
   ]
  },
  {
   "attachments": {
    "image.png": {
     "image/png": "[encoded data removed]"
    }
   },
   "cell_type": "markdown",
   "id": "abd2be8f",
   "metadata": {},
   "source": [
    "### Interpretation of F-statistic\n",
    "\n",
    "![image.png](attachment:image.png)\n",
    "\n",
    "In the same way we check for the coefficient significance, we can check for the significance of the complete linear regression model. For that we have the null hypothesis as \"all the coefficient values are equal to 0\" and alternate hypothesis as \"at least one coefficient value is not equal to 0\"\n",
    "\n",
    "We can test the above hypothesis using F-distribution and hence you see the F-statistic value being shown. Again we have the p-value and we will infer based on the p-value. If we have low p-value then we reject the null hypothesis (which means that our linear regression model is significant), if we have high p-value then we accept the null hypothesis (which means our linear regression model is not useful)"
   ]
  },
  {
   "cell_type": "code",
   "execution_count": 9,
   "id": "51e412fd",
   "metadata": {},
   "outputs": [
    {
     "data": {
      "text/plain": [
       "7.388225401524132e-42"
      ]
     },
     "execution_count": 9,
     "metadata": {},
     "output_type": "execute_result"
    }
   ],
   "source": [
    "# p-value of the f-statistic\n",
    "result.f_pvalue"
   ]
  },
  {
   "cell_type": "markdown",
   "id": "e3276c46",
   "metadata": {},
   "source": [
    "## Leverage and Influence Points\n",
    "\n",
    "In regression, it is possible for a single point to have a big impact on the overall regression results but it is also possible to have a clear outlier that has little impact on the results. So we have good outliers and bad outliers.\n",
    "\n",
    "We can measure the distance of points from \"average of x\" to quantify each observation’s potential for impact on the line using what is called the leverage of a point. Leverage is a positive numerical measure with larger values corresponding to more leverage.\n",
    "\n",
    "We call an observation influential if its removal causes a “big” change in the regression line, specifically in terms of impacting the slope coefficient. Points that are on the edges of the  x's (far from the mean of the  x's) have the potential for more impact on the line.\n",
    "\n",
    "The observations with  x-values that provide higher leverage have increased potential to influence the estimated regression line. \n",
    "\n",
    "\n",
    "Along with measuring the leverage, we can also measure the influence that each point has on the regression line using Cook’s Distance or Cook’s D. It also is a positive measure with higher values suggesting more influence. \n",
    "\n",
    "\n",
    "The rule of thumb is that Cook’s D values over 1.0 correspond to clearly influential points, values over 0.5 have some influence and values lower than 0.5 indicate points that are not influential on the regression model slope coefficients."
   ]
  },
  {
   "cell_type": "code",
   "execution_count": 20,
   "id": "acab86a9",
   "metadata": {},
   "outputs": [
    {
     "data": {
      "text/plain": [
       "0      0.043451\n",
       "1      0.049916\n",
       "2      0.061522\n",
       "3      0.032588\n",
       "4      0.024278\n",
       "         ...   \n",
       "540    0.002800\n",
       "541    0.002892\n",
       "542    0.002952\n",
       "543    0.003005\n",
       "544    0.002929\n",
       "Name: cooks_d, Length: 545, dtype: float64"
      ]
     },
     "execution_count": 20,
     "metadata": {},
     "output_type": "execute_result"
    }
   ],
   "source": [
    "infl = result.get_influence()\n",
    "cooks_distance = infl.summary_frame()['cooks_d']\n",
    "cooks_distance"
   ]
  },
  {
   "attachments": {
    "image.png": {
     "image/png": "[encoded data removed]"
    }
   },
   "cell_type": "markdown",
   "id": "bb350e62",
   "metadata": {},
   "source": [
    "## VIF - Multicollinearity\n",
    "\n",
    "1. Multicollinearity refers to high correlation in more than two independent variables in the regression model (e.g. Multiple linear regression). Similarly, collinearity refers to a high correlation between two independent variables\n",
    "\n",
    "\n",
    "2. Multicollinearity can arise from poorly designed experiments (Data-based multicollinearity) or from creating new independent variables related to the existing ones (structural multicollinearity)\n",
    "\n",
    "\n",
    "3. Variance inflation factor (VIF) measures the degree of multicollinearity or collinearity in the regression model\n",
    "\n",
    "\n",
    "![image.png](attachment:image.png)"
   ]
  },
  {
   "cell_type": "code",
   "execution_count": 22,
   "id": "af4e2dc2",
   "metadata": {},
   "outputs": [
    {
     "name": "stdout",
     "output_type": "stream",
     "text": [
      "     feature        VIF\n",
      "0      const  21.415032\n",
      "1       area   1.170959\n",
      "2  bathrooms   1.252775\n",
      "3   bedrooms   1.316597\n",
      "4    stories   1.255202\n",
      "5    parking   1.164172\n"
     ]
    }
   ],
   "source": [
    "from statsmodels.stats.outliers_influence import variance_inflation_factor \n",
    "from statsmodels.tools.tools import add_constant\n",
    "\n",
    "# the independent variables set \n",
    "X = add_constant(housing_df[['area', 'bathrooms', 'bedrooms', 'stories', 'parking']] )\n",
    "\n",
    "# VIF dataframe \n",
    "vif_data = pd.DataFrame() \n",
    "vif_data[\"feature\"] = X.columns \n",
    "\n",
    "# calculating VIF for each feature \n",
    "vif_data[\"VIF\"] = [variance_inflation_factor(X.values, i) \n",
    "                          for i in range(len(X.columns))] \n",
    "  \n",
    "print(vif_data)"
   ]
  },
  {
   "cell_type": "code",
   "execution_count": null,
   "id": "1a6e91a2",
   "metadata": {},
   "outputs": [],
   "source": []
  },
  {
   "cell_type": "code",
   "execution_count": null,
   "id": "7fac59b3",
   "metadata": {},
   "outputs": [],
   "source": []
  },
  {
   "cell_type": "code",
   "execution_count": 52,
   "id": "75f75d47",
   "metadata": {},
   "outputs": [
    {
     "data": {
      "text/html": [
       "<div>\n",
       "<style scoped>\n",
       "    .dataframe tbody tr th:only-of-type {\n",
       "        vertical-align: middle;\n",
       "    }\n",
       "\n",
       "    .dataframe tbody tr th {\n",
       "        vertical-align: top;\n",
       "    }\n",
       "\n",
       "    .dataframe thead th {\n",
       "        text-align: right;\n",
       "    }\n",
       "</style>\n",
       "<table border=\"1\" class=\"dataframe\">\n",
       "  <thead>\n",
       "    <tr style=\"text-align: right;\">\n",
       "      <th></th>\n",
       "      <th>price</th>\n",
       "      <th>area</th>\n",
       "      <th>bedrooms</th>\n",
       "      <th>bathrooms</th>\n",
       "      <th>stories</th>\n",
       "      <th>mainroad</th>\n",
       "      <th>guestroom</th>\n",
       "      <th>basement</th>\n",
       "      <th>hotwaterheating</th>\n",
       "      <th>airconditioning</th>\n",
       "      <th>parking</th>\n",
       "      <th>prefarea</th>\n",
       "      <th>furnishingstatus</th>\n",
       "    </tr>\n",
       "  </thead>\n",
       "  <tbody>\n",
       "    <tr>\n",
       "      <th>0</th>\n",
       "      <td>13300000</td>\n",
       "      <td>7420</td>\n",
       "      <td>4</td>\n",
       "      <td>2</td>\n",
       "      <td>3</td>\n",
       "      <td>yes</td>\n",
       "      <td>no</td>\n",
       "      <td>no</td>\n",
       "      <td>no</td>\n",
       "      <td>yes</td>\n",
       "      <td>2</td>\n",
       "      <td>yes</td>\n",
       "      <td>furnished</td>\n",
       "    </tr>\n",
       "    <tr>\n",
       "      <th>1</th>\n",
       "      <td>12250000</td>\n",
       "      <td>8960</td>\n",
       "      <td>4</td>\n",
       "      <td>4</td>\n",
       "      <td>4</td>\n",
       "      <td>yes</td>\n",
       "      <td>no</td>\n",
       "      <td>no</td>\n",
       "      <td>no</td>\n",
       "      <td>yes</td>\n",
       "      <td>3</td>\n",
       "      <td>no</td>\n",
       "      <td>furnished</td>\n",
       "    </tr>\n",
       "    <tr>\n",
       "      <th>2</th>\n",
       "      <td>12250000</td>\n",
       "      <td>9960</td>\n",
       "      <td>3</td>\n",
       "      <td>2</td>\n",
       "      <td>2</td>\n",
       "      <td>yes</td>\n",
       "      <td>no</td>\n",
       "      <td>yes</td>\n",
       "      <td>no</td>\n",
       "      <td>no</td>\n",
       "      <td>2</td>\n",
       "      <td>yes</td>\n",
       "      <td>semi-furnished</td>\n",
       "    </tr>\n",
       "    <tr>\n",
       "      <th>3</th>\n",
       "      <td>12215000</td>\n",
       "      <td>7500</td>\n",
       "      <td>4</td>\n",
       "      <td>2</td>\n",
       "      <td>2</td>\n",
       "      <td>yes</td>\n",
       "      <td>no</td>\n",
       "      <td>yes</td>\n",
       "      <td>no</td>\n",
       "      <td>yes</td>\n",
       "      <td>3</td>\n",
       "      <td>yes</td>\n",
       "      <td>furnished</td>\n",
       "    </tr>\n",
       "    <tr>\n",
       "      <th>4</th>\n",
       "      <td>11410000</td>\n",
       "      <td>7420</td>\n",
       "      <td>4</td>\n",
       "      <td>1</td>\n",
       "      <td>2</td>\n",
       "      <td>yes</td>\n",
       "      <td>yes</td>\n",
       "      <td>yes</td>\n",
       "      <td>no</td>\n",
       "      <td>yes</td>\n",
       "      <td>2</td>\n",
       "      <td>no</td>\n",
       "      <td>furnished</td>\n",
       "    </tr>\n",
       "  </tbody>\n",
       "</table>\n",
       "</div>"
      ],
      "text/plain": [
       "      price  area  bedrooms  bathrooms  stories mainroad guestroom basement  \\\n",
       "0  13300000  7420         4          2        3      yes        no       no   \n",
       "1  12250000  8960         4          4        4      yes        no       no   \n",
       "2  12250000  9960         3          2        2      yes        no      yes   \n",
       "3  12215000  7500         4          2        2      yes        no      yes   \n",
       "4  11410000  7420         4          1        2      yes       yes      yes   \n",
       "\n",
       "  hotwaterheating airconditioning  parking prefarea furnishingstatus  \n",
       "0              no             yes        2      yes        furnished  \n",
       "1              no             yes        3       no        furnished  \n",
       "2              no              no        2      yes   semi-furnished  \n",
       "3              no             yes        3      yes        furnished  \n",
       "4              no             yes        2       no        furnished  "
      ]
     },
     "execution_count": 52,
     "metadata": {},
     "output_type": "execute_result"
    }
   ],
   "source": [
    "pd.read_csv(r\"E:\\BIA\\notebooks\\datasets\\Housing.csv\").head()"
   ]
  },
  {
   "cell_type": "code",
   "execution_count": 53,
   "id": "12276b0a",
   "metadata": {},
   "outputs": [
    {
     "data": {
      "text/html": [
       "<div>\n",
       "<style scoped>\n",
       "    .dataframe tbody tr th:only-of-type {\n",
       "        vertical-align: middle;\n",
       "    }\n",
       "\n",
       "    .dataframe tbody tr th {\n",
       "        vertical-align: top;\n",
       "    }\n",
       "\n",
       "    .dataframe thead th {\n",
       "        text-align: right;\n",
       "    }\n",
       "</style>\n",
       "<table border=\"1\" class=\"dataframe\">\n",
       "  <thead>\n",
       "    <tr style=\"text-align: right;\">\n",
       "      <th></th>\n",
       "      <th>price</th>\n",
       "      <th>area</th>\n",
       "      <th>bedrooms</th>\n",
       "      <th>bathrooms</th>\n",
       "      <th>stories</th>\n",
       "      <th>mainroad</th>\n",
       "      <th>guestroom</th>\n",
       "      <th>basement</th>\n",
       "      <th>hotwaterheating</th>\n",
       "      <th>airconditioning</th>\n",
       "      <th>parking</th>\n",
       "      <th>prefarea</th>\n",
       "      <th>furnishingstatus</th>\n",
       "    </tr>\n",
       "  </thead>\n",
       "  <tbody>\n",
       "    <tr>\n",
       "      <th>0</th>\n",
       "      <td>13300000</td>\n",
       "      <td>7420</td>\n",
       "      <td>4</td>\n",
       "      <td>2</td>\n",
       "      <td>3</td>\n",
       "      <td>yes</td>\n",
       "      <td>no</td>\n",
       "      <td>no</td>\n",
       "      <td>no</td>\n",
       "      <td>yes</td>\n",
       "      <td>2</td>\n",
       "      <td>yes</td>\n",
       "      <td>furnished</td>\n",
       "    </tr>\n",
       "    <tr>\n",
       "      <th>1</th>\n",
       "      <td>12250000</td>\n",
       "      <td>8960</td>\n",
       "      <td>4</td>\n",
       "      <td>4</td>\n",
       "      <td>4</td>\n",
       "      <td>yes</td>\n",
       "      <td>no</td>\n",
       "      <td>no</td>\n",
       "      <td>no</td>\n",
       "      <td>yes</td>\n",
       "      <td>3</td>\n",
       "      <td>no</td>\n",
       "      <td>furnished</td>\n",
       "    </tr>\n",
       "    <tr>\n",
       "      <th>2</th>\n",
       "      <td>12250000</td>\n",
       "      <td>9960</td>\n",
       "      <td>3</td>\n",
       "      <td>2</td>\n",
       "      <td>2</td>\n",
       "      <td>yes</td>\n",
       "      <td>no</td>\n",
       "      <td>yes</td>\n",
       "      <td>no</td>\n",
       "      <td>no</td>\n",
       "      <td>2</td>\n",
       "      <td>yes</td>\n",
       "      <td>semi-furnished</td>\n",
       "    </tr>\n",
       "    <tr>\n",
       "      <th>3</th>\n",
       "      <td>12215000</td>\n",
       "      <td>7500</td>\n",
       "      <td>4</td>\n",
       "      <td>2</td>\n",
       "      <td>2</td>\n",
       "      <td>yes</td>\n",
       "      <td>no</td>\n",
       "      <td>yes</td>\n",
       "      <td>no</td>\n",
       "      <td>yes</td>\n",
       "      <td>3</td>\n",
       "      <td>yes</td>\n",
       "      <td>furnished</td>\n",
       "    </tr>\n",
       "    <tr>\n",
       "      <th>4</th>\n",
       "      <td>11410000</td>\n",
       "      <td>7420</td>\n",
       "      <td>4</td>\n",
       "      <td>1</td>\n",
       "      <td>2</td>\n",
       "      <td>yes</td>\n",
       "      <td>yes</td>\n",
       "      <td>yes</td>\n",
       "      <td>no</td>\n",
       "      <td>yes</td>\n",
       "      <td>2</td>\n",
       "      <td>no</td>\n",
       "      <td>furnished</td>\n",
       "    </tr>\n",
       "  </tbody>\n",
       "</table>\n",
       "</div>"
      ],
      "text/plain": [
       "      price  area  bedrooms  bathrooms  stories mainroad guestroom basement  \\\n",
       "0  13300000  7420         4          2        3      yes        no       no   \n",
       "1  12250000  8960         4          4        4      yes        no       no   \n",
       "2  12250000  9960         3          2        2      yes        no      yes   \n",
       "3  12215000  7500         4          2        2      yes        no      yes   \n",
       "4  11410000  7420         4          1        2      yes       yes      yes   \n",
       "\n",
       "  hotwaterheating airconditioning  parking prefarea furnishingstatus  \n",
       "0              no             yes        2      yes        furnished  \n",
       "1              no             yes        3       no        furnished  \n",
       "2              no              no        2      yes   semi-furnished  \n",
       "3              no             yes        3      yes        furnished  \n",
       "4              no             yes        2       no        furnished  "
      ]
     },
     "execution_count": 53,
     "metadata": {},
     "output_type": "execute_result"
    }
   ],
   "source": [
    "pd.read_csv(\"datasets\\Housing.csv\").head()"
   ]
  },
  {
   "cell_type": "code",
   "execution_count": null,
   "id": "bc27f610",
   "metadata": {},
   "outputs": [],
   "source": []
  }
 ],
 "metadata": {
  "kernelspec": {
   "display_name": "Python 3 (ipykernel)",
   "language": "python",
   "name": "python3"
  },
  "language_info": {
   "codemirror_mode": {
    "name": "ipython",
    "version": 3
   },
   "file_extension": ".py",
   "mimetype": "text/x-python",
   "name": "python",
   "nbconvert_exporter": "python",
   "pygments_lexer": "ipython3",
   "version": "3.10.9"
  }
 },
 "nbformat": 4,
 "nbformat_minor": 5
}
