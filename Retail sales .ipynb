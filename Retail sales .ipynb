{
 "cells": [
  {
   "cell_type": "code",
   "execution_count": 1,
   "id": "a5b05987",
   "metadata": {},
   "outputs": [
    {
     "data": {
      "text/html": [
       "<div>\n",
       "<style scoped>\n",
       "    .dataframe tbody tr th:only-of-type {\n",
       "        vertical-align: middle;\n",
       "    }\n",
       "\n",
       "    .dataframe tbody tr th {\n",
       "        vertical-align: top;\n",
       "    }\n",
       "\n",
       "    .dataframe thead th {\n",
       "        text-align: right;\n",
       "    }\n",
       "</style>\n",
       "<table border=\"1\" class=\"dataframe\">\n",
       "  <thead>\n",
       "    <tr style=\"text-align: right;\">\n",
       "      <th></th>\n",
       "      <th>InvoiceNo</th>\n",
       "      <th>StockCode</th>\n",
       "      <th>Description</th>\n",
       "      <th>Quantity</th>\n",
       "      <th>InvoiceDate</th>\n",
       "      <th>UnitPrice</th>\n",
       "      <th>CustomerID</th>\n",
       "      <th>Country</th>\n",
       "    </tr>\n",
       "  </thead>\n",
       "  <tbody>\n",
       "    <tr>\n",
       "      <th>0</th>\n",
       "      <td>536365</td>\n",
       "      <td>85123A</td>\n",
       "      <td>WHITE HANGING HEART T-LIGHT HOLDER</td>\n",
       "      <td>6</td>\n",
       "      <td>12/1/2010 8:26</td>\n",
       "      <td>2.55</td>\n",
       "      <td>17850.0</td>\n",
       "      <td>United Kingdom</td>\n",
       "    </tr>\n",
       "    <tr>\n",
       "      <th>1</th>\n",
       "      <td>536365</td>\n",
       "      <td>71053</td>\n",
       "      <td>WHITE METAL LANTERN</td>\n",
       "      <td>6</td>\n",
       "      <td>12/1/2010 8:26</td>\n",
       "      <td>3.39</td>\n",
       "      <td>17850.0</td>\n",
       "      <td>United Kingdom</td>\n",
       "    </tr>\n",
       "    <tr>\n",
       "      <th>2</th>\n",
       "      <td>536365</td>\n",
       "      <td>84406B</td>\n",
       "      <td>CREAM CUPID HEARTS COAT HANGER</td>\n",
       "      <td>8</td>\n",
       "      <td>12/1/2010 8:26</td>\n",
       "      <td>2.75</td>\n",
       "      <td>17850.0</td>\n",
       "      <td>United Kingdom</td>\n",
       "    </tr>\n",
       "    <tr>\n",
       "      <th>3</th>\n",
       "      <td>536365</td>\n",
       "      <td>84029G</td>\n",
       "      <td>KNITTED UNION FLAG HOT WATER BOTTLE</td>\n",
       "      <td>6</td>\n",
       "      <td>12/1/2010 8:26</td>\n",
       "      <td>3.39</td>\n",
       "      <td>17850.0</td>\n",
       "      <td>United Kingdom</td>\n",
       "    </tr>\n",
       "    <tr>\n",
       "      <th>4</th>\n",
       "      <td>536365</td>\n",
       "      <td>84029E</td>\n",
       "      <td>RED WOOLLY HOTTIE WHITE HEART.</td>\n",
       "      <td>6</td>\n",
       "      <td>12/1/2010 8:26</td>\n",
       "      <td>3.39</td>\n",
       "      <td>17850.0</td>\n",
       "      <td>United Kingdom</td>\n",
       "    </tr>\n",
       "  </tbody>\n",
       "</table>\n",
       "</div>"
      ],
      "text/plain": [
       "  InvoiceNo StockCode                          Description  Quantity  \\\n",
       "0    536365    85123A   WHITE HANGING HEART T-LIGHT HOLDER         6   \n",
       "1    536365     71053                  WHITE METAL LANTERN         6   \n",
       "2    536365    84406B       CREAM CUPID HEARTS COAT HANGER         8   \n",
       "3    536365    84029G  KNITTED UNION FLAG HOT WATER BOTTLE         6   \n",
       "4    536365    84029E       RED WOOLLY HOTTIE WHITE HEART.         6   \n",
       "\n",
       "      InvoiceDate  UnitPrice  CustomerID         Country  \n",
       "0  12/1/2010 8:26       2.55     17850.0  United Kingdom  \n",
       "1  12/1/2010 8:26       3.39     17850.0  United Kingdom  \n",
       "2  12/1/2010 8:26       2.75     17850.0  United Kingdom  \n",
       "3  12/1/2010 8:26       3.39     17850.0  United Kingdom  \n",
       "4  12/1/2010 8:26       3.39     17850.0  United Kingdom  "
      ]
     },
     "execution_count": 1,
     "metadata": {},
     "output_type": "execute_result"
    }
   ],
   "source": [
    "import pandas as pd\n",
    "Retail_df=pd.read_csv(r\"C:\\Users\\BALA JI\\Documents\\python\\retailsales.csv\" , encoding=\"ISO-8859-1\")\n",
    "Retail_df.head()"
   ]
  },
  {
   "cell_type": "code",
   "execution_count": null,
   "id": "dcc7eb7f",
   "metadata": {},
   "outputs": [],
   "source": []
  },
  {
   "cell_type": "markdown",
   "id": "1a955791",
   "metadata": {},
   "source": [
    "###### Data cleaning ###"
   ]
  },
  {
   "cell_type": "code",
   "execution_count": 2,
   "id": "bca056b9",
   "metadata": {},
   "outputs": [
    {
     "data": {
      "text/plain": [
       "count    541909.000000\n",
       "mean          4.611114\n",
       "std          96.759853\n",
       "min      -11062.060000\n",
       "25%           1.250000\n",
       "50%           2.080000\n",
       "75%           4.130000\n",
       "max       38970.000000\n",
       "Name: UnitPrice, dtype: float64"
      ]
     },
     "execution_count": 2,
     "metadata": {},
     "output_type": "execute_result"
    }
   ],
   "source": [
    "Retail_df.UnitPrice.describe()"
   ]
  },
  {
   "cell_type": "code",
   "execution_count": 3,
   "id": "66f9f363",
   "metadata": {},
   "outputs": [],
   "source": [
    "Retail_df['UnitPrice'] = Retail_df['UnitPrice'].replace('13541.33', '')"
   ]
  },
  {
   "cell_type": "code",
   "execution_count": 4,
   "id": "2382fcbb",
   "metadata": {},
   "outputs": [],
   "source": [
    "Retail_df.drop(Retail_df[Retail_df['InvoiceNo'].str.startswith('C')].index, inplace=True)"
   ]
  },
  {
   "cell_type": "code",
   "execution_count": 5,
   "id": "706b34c6",
   "metadata": {},
   "outputs": [
    {
     "data": {
      "text/plain": [
       "(532621, 8)"
      ]
     },
     "execution_count": 5,
     "metadata": {},
     "output_type": "execute_result"
    }
   ],
   "source": [
    "Retail_df.shape"
   ]
  },
  {
   "cell_type": "code",
   "execution_count": 6,
   "id": "b2871b36",
   "metadata": {},
   "outputs": [
    {
     "data": {
      "text/html": [
       "<div>\n",
       "<style scoped>\n",
       "    .dataframe tbody tr th:only-of-type {\n",
       "        vertical-align: middle;\n",
       "    }\n",
       "\n",
       "    .dataframe tbody tr th {\n",
       "        vertical-align: top;\n",
       "    }\n",
       "\n",
       "    .dataframe thead th {\n",
       "        text-align: right;\n",
       "    }\n",
       "</style>\n",
       "<table border=\"1\" class=\"dataframe\">\n",
       "  <thead>\n",
       "    <tr style=\"text-align: right;\">\n",
       "      <th></th>\n",
       "      <th>InvoiceNo</th>\n",
       "      <th>StockCode</th>\n",
       "      <th>Description</th>\n",
       "      <th>Quantity</th>\n",
       "      <th>InvoiceDate</th>\n",
       "      <th>UnitPrice</th>\n",
       "      <th>CustomerID</th>\n",
       "      <th>Country</th>\n",
       "    </tr>\n",
       "  </thead>\n",
       "  <tbody>\n",
       "    <tr>\n",
       "      <th>0</th>\n",
       "      <td>536365</td>\n",
       "      <td>85123A</td>\n",
       "      <td>WHITE HANGING HEART T-LIGHT HOLDER</td>\n",
       "      <td>6</td>\n",
       "      <td>12/1/2010 8:26</td>\n",
       "      <td>2.55</td>\n",
       "      <td>17850.0</td>\n",
       "      <td>United Kingdom</td>\n",
       "    </tr>\n",
       "    <tr>\n",
       "      <th>1</th>\n",
       "      <td>536365</td>\n",
       "      <td>71053</td>\n",
       "      <td>WHITE METAL LANTERN</td>\n",
       "      <td>6</td>\n",
       "      <td>12/1/2010 8:26</td>\n",
       "      <td>3.39</td>\n",
       "      <td>17850.0</td>\n",
       "      <td>United Kingdom</td>\n",
       "    </tr>\n",
       "    <tr>\n",
       "      <th>2</th>\n",
       "      <td>536365</td>\n",
       "      <td>84406B</td>\n",
       "      <td>CREAM CUPID HEARTS COAT HANGER</td>\n",
       "      <td>8</td>\n",
       "      <td>12/1/2010 8:26</td>\n",
       "      <td>2.75</td>\n",
       "      <td>17850.0</td>\n",
       "      <td>United Kingdom</td>\n",
       "    </tr>\n",
       "    <tr>\n",
       "      <th>3</th>\n",
       "      <td>536365</td>\n",
       "      <td>84029G</td>\n",
       "      <td>KNITTED UNION FLAG HOT WATER BOTTLE</td>\n",
       "      <td>6</td>\n",
       "      <td>12/1/2010 8:26</td>\n",
       "      <td>3.39</td>\n",
       "      <td>17850.0</td>\n",
       "      <td>United Kingdom</td>\n",
       "    </tr>\n",
       "    <tr>\n",
       "      <th>4</th>\n",
       "      <td>536365</td>\n",
       "      <td>84029E</td>\n",
       "      <td>RED WOOLLY HOTTIE WHITE HEART.</td>\n",
       "      <td>6</td>\n",
       "      <td>12/1/2010 8:26</td>\n",
       "      <td>3.39</td>\n",
       "      <td>17850.0</td>\n",
       "      <td>United Kingdom</td>\n",
       "    </tr>\n",
       "    <tr>\n",
       "      <th>...</th>\n",
       "      <td>...</td>\n",
       "      <td>...</td>\n",
       "      <td>...</td>\n",
       "      <td>...</td>\n",
       "      <td>...</td>\n",
       "      <td>...</td>\n",
       "      <td>...</td>\n",
       "      <td>...</td>\n",
       "    </tr>\n",
       "    <tr>\n",
       "      <th>541904</th>\n",
       "      <td>581587</td>\n",
       "      <td>22613</td>\n",
       "      <td>PACK OF 20 SPACEBOY NAPKINS</td>\n",
       "      <td>12</td>\n",
       "      <td>12/9/2011 12:50</td>\n",
       "      <td>0.85</td>\n",
       "      <td>12680.0</td>\n",
       "      <td>France</td>\n",
       "    </tr>\n",
       "    <tr>\n",
       "      <th>541905</th>\n",
       "      <td>581587</td>\n",
       "      <td>22899</td>\n",
       "      <td>CHILDREN'S APRON DOLLY GIRL</td>\n",
       "      <td>6</td>\n",
       "      <td>12/9/2011 12:50</td>\n",
       "      <td>2.10</td>\n",
       "      <td>12680.0</td>\n",
       "      <td>France</td>\n",
       "    </tr>\n",
       "    <tr>\n",
       "      <th>541906</th>\n",
       "      <td>581587</td>\n",
       "      <td>23254</td>\n",
       "      <td>CHILDRENS CUTLERY DOLLY GIRL</td>\n",
       "      <td>4</td>\n",
       "      <td>12/9/2011 12:50</td>\n",
       "      <td>4.15</td>\n",
       "      <td>12680.0</td>\n",
       "      <td>France</td>\n",
       "    </tr>\n",
       "    <tr>\n",
       "      <th>541907</th>\n",
       "      <td>581587</td>\n",
       "      <td>23255</td>\n",
       "      <td>CHILDRENS CUTLERY CIRCUS PARADE</td>\n",
       "      <td>4</td>\n",
       "      <td>12/9/2011 12:50</td>\n",
       "      <td>4.15</td>\n",
       "      <td>12680.0</td>\n",
       "      <td>France</td>\n",
       "    </tr>\n",
       "    <tr>\n",
       "      <th>541908</th>\n",
       "      <td>581587</td>\n",
       "      <td>22138</td>\n",
       "      <td>BAKING SET 9 PIECE RETROSPOT</td>\n",
       "      <td>3</td>\n",
       "      <td>12/9/2011 12:50</td>\n",
       "      <td>4.95</td>\n",
       "      <td>12680.0</td>\n",
       "      <td>France</td>\n",
       "    </tr>\n",
       "  </tbody>\n",
       "</table>\n",
       "<p>531285 rows × 8 columns</p>\n",
       "</div>"
      ],
      "text/plain": [
       "       InvoiceNo StockCode                          Description  Quantity  \\\n",
       "0         536365    85123A   WHITE HANGING HEART T-LIGHT HOLDER         6   \n",
       "1         536365     71053                  WHITE METAL LANTERN         6   \n",
       "2         536365    84406B       CREAM CUPID HEARTS COAT HANGER         8   \n",
       "3         536365    84029G  KNITTED UNION FLAG HOT WATER BOTTLE         6   \n",
       "4         536365    84029E       RED WOOLLY HOTTIE WHITE HEART.         6   \n",
       "...          ...       ...                                  ...       ...   \n",
       "541904    581587     22613          PACK OF 20 SPACEBOY NAPKINS        12   \n",
       "541905    581587     22899         CHILDREN'S APRON DOLLY GIRL          6   \n",
       "541906    581587     23254        CHILDRENS CUTLERY DOLLY GIRL          4   \n",
       "541907    581587     23255      CHILDRENS CUTLERY CIRCUS PARADE         4   \n",
       "541908    581587     22138        BAKING SET 9 PIECE RETROSPOT          3   \n",
       "\n",
       "            InvoiceDate  UnitPrice  CustomerID         Country  \n",
       "0        12/1/2010 8:26       2.55     17850.0  United Kingdom  \n",
       "1        12/1/2010 8:26       3.39     17850.0  United Kingdom  \n",
       "2        12/1/2010 8:26       2.75     17850.0  United Kingdom  \n",
       "3        12/1/2010 8:26       3.39     17850.0  United Kingdom  \n",
       "4        12/1/2010 8:26       3.39     17850.0  United Kingdom  \n",
       "...                 ...        ...         ...             ...  \n",
       "541904  12/9/2011 12:50       0.85     12680.0          France  \n",
       "541905  12/9/2011 12:50       2.10     12680.0          France  \n",
       "541906  12/9/2011 12:50       4.15     12680.0          France  \n",
       "541907  12/9/2011 12:50       4.15     12680.0          France  \n",
       "541908  12/9/2011 12:50       4.95     12680.0          France  \n",
       "\n",
       "[531285 rows x 8 columns]"
      ]
     },
     "execution_count": 6,
     "metadata": {},
     "output_type": "execute_result"
    }
   ],
   "source": [
    "Retail_df[Retail_df['Quantity']>=1]"
   ]
  },
  {
   "cell_type": "markdown",
   "id": "c636f7e1",
   "metadata": {},
   "source": [
    "###### Feature engineering##"
   ]
  },
  {
   "cell_type": "code",
   "execution_count": 7,
   "id": "3f0d2b16",
   "metadata": {},
   "outputs": [
    {
     "data": {
      "text/html": [
       "<div>\n",
       "<style scoped>\n",
       "    .dataframe tbody tr th:only-of-type {\n",
       "        vertical-align: middle;\n",
       "    }\n",
       "\n",
       "    .dataframe tbody tr th {\n",
       "        vertical-align: top;\n",
       "    }\n",
       "\n",
       "    .dataframe thead th {\n",
       "        text-align: right;\n",
       "    }\n",
       "</style>\n",
       "<table border=\"1\" class=\"dataframe\">\n",
       "  <thead>\n",
       "    <tr style=\"text-align: right;\">\n",
       "      <th></th>\n",
       "      <th>InvoiceNo</th>\n",
       "      <th>StockCode</th>\n",
       "      <th>Description</th>\n",
       "      <th>Quantity</th>\n",
       "      <th>InvoiceDate</th>\n",
       "      <th>UnitPrice</th>\n",
       "      <th>CustomerID</th>\n",
       "      <th>Country</th>\n",
       "      <th>Amount</th>\n",
       "    </tr>\n",
       "  </thead>\n",
       "  <tbody>\n",
       "    <tr>\n",
       "      <th>0</th>\n",
       "      <td>536365</td>\n",
       "      <td>85123A</td>\n",
       "      <td>WHITE HANGING HEART T-LIGHT HOLDER</td>\n",
       "      <td>6</td>\n",
       "      <td>12/1/2010 8:26</td>\n",
       "      <td>2.55</td>\n",
       "      <td>17850.0</td>\n",
       "      <td>United Kingdom</td>\n",
       "      <td>15.30</td>\n",
       "    </tr>\n",
       "    <tr>\n",
       "      <th>1</th>\n",
       "      <td>536365</td>\n",
       "      <td>71053</td>\n",
       "      <td>WHITE METAL LANTERN</td>\n",
       "      <td>6</td>\n",
       "      <td>12/1/2010 8:26</td>\n",
       "      <td>3.39</td>\n",
       "      <td>17850.0</td>\n",
       "      <td>United Kingdom</td>\n",
       "      <td>20.34</td>\n",
       "    </tr>\n",
       "    <tr>\n",
       "      <th>2</th>\n",
       "      <td>536365</td>\n",
       "      <td>84406B</td>\n",
       "      <td>CREAM CUPID HEARTS COAT HANGER</td>\n",
       "      <td>8</td>\n",
       "      <td>12/1/2010 8:26</td>\n",
       "      <td>2.75</td>\n",
       "      <td>17850.0</td>\n",
       "      <td>United Kingdom</td>\n",
       "      <td>22.00</td>\n",
       "    </tr>\n",
       "    <tr>\n",
       "      <th>3</th>\n",
       "      <td>536365</td>\n",
       "      <td>84029G</td>\n",
       "      <td>KNITTED UNION FLAG HOT WATER BOTTLE</td>\n",
       "      <td>6</td>\n",
       "      <td>12/1/2010 8:26</td>\n",
       "      <td>3.39</td>\n",
       "      <td>17850.0</td>\n",
       "      <td>United Kingdom</td>\n",
       "      <td>20.34</td>\n",
       "    </tr>\n",
       "    <tr>\n",
       "      <th>4</th>\n",
       "      <td>536365</td>\n",
       "      <td>84029E</td>\n",
       "      <td>RED WOOLLY HOTTIE WHITE HEART.</td>\n",
       "      <td>6</td>\n",
       "      <td>12/1/2010 8:26</td>\n",
       "      <td>3.39</td>\n",
       "      <td>17850.0</td>\n",
       "      <td>United Kingdom</td>\n",
       "      <td>20.34</td>\n",
       "    </tr>\n",
       "  </tbody>\n",
       "</table>\n",
       "</div>"
      ],
      "text/plain": [
       "  InvoiceNo StockCode                          Description  Quantity  \\\n",
       "0    536365    85123A   WHITE HANGING HEART T-LIGHT HOLDER         6   \n",
       "1    536365     71053                  WHITE METAL LANTERN         6   \n",
       "2    536365    84406B       CREAM CUPID HEARTS COAT HANGER         8   \n",
       "3    536365    84029G  KNITTED UNION FLAG HOT WATER BOTTLE         6   \n",
       "4    536365    84029E       RED WOOLLY HOTTIE WHITE HEART.         6   \n",
       "\n",
       "      InvoiceDate  UnitPrice  CustomerID         Country  Amount  \n",
       "0  12/1/2010 8:26       2.55     17850.0  United Kingdom   15.30  \n",
       "1  12/1/2010 8:26       3.39     17850.0  United Kingdom   20.34  \n",
       "2  12/1/2010 8:26       2.75     17850.0  United Kingdom   22.00  \n",
       "3  12/1/2010 8:26       3.39     17850.0  United Kingdom   20.34  \n",
       "4  12/1/2010 8:26       3.39     17850.0  United Kingdom   20.34  "
      ]
     },
     "execution_count": 7,
     "metadata": {},
     "output_type": "execute_result"
    }
   ],
   "source": [
    "Retail_df['Amount'] = Retail_df['Quantity'] * Retail_df['UnitPrice']\n",
    "Retail_df.head()"
   ]
  },
  {
   "cell_type": "code",
   "execution_count": 8,
   "id": "980575b5",
   "metadata": {},
   "outputs": [
    {
     "data": {
      "text/html": [
       "<div>\n",
       "<style scoped>\n",
       "    .dataframe tbody tr th:only-of-type {\n",
       "        vertical-align: middle;\n",
       "    }\n",
       "\n",
       "    .dataframe tbody tr th {\n",
       "        vertical-align: top;\n",
       "    }\n",
       "\n",
       "    .dataframe thead th {\n",
       "        text-align: right;\n",
       "    }\n",
       "</style>\n",
       "<table border=\"1\" class=\"dataframe\">\n",
       "  <thead>\n",
       "    <tr style=\"text-align: right;\">\n",
       "      <th></th>\n",
       "      <th>InvoiceNo</th>\n",
       "      <th>StockCode</th>\n",
       "      <th>Description</th>\n",
       "      <th>Quantity</th>\n",
       "      <th>InvoiceDate</th>\n",
       "      <th>UnitPrice</th>\n",
       "      <th>CustomerID</th>\n",
       "      <th>Country</th>\n",
       "      <th>Amount</th>\n",
       "      <th>Year</th>\n",
       "      <th>Month</th>\n",
       "      <th>Time</th>\n",
       "    </tr>\n",
       "  </thead>\n",
       "  <tbody>\n",
       "    <tr>\n",
       "      <th>0</th>\n",
       "      <td>536365</td>\n",
       "      <td>85123A</td>\n",
       "      <td>WHITE HANGING HEART T-LIGHT HOLDER</td>\n",
       "      <td>6</td>\n",
       "      <td>2010-12-01 08:26:00</td>\n",
       "      <td>2.55</td>\n",
       "      <td>17850.0</td>\n",
       "      <td>United Kingdom</td>\n",
       "      <td>15.30</td>\n",
       "      <td>2010</td>\n",
       "      <td>12</td>\n",
       "      <td>08:26:00</td>\n",
       "    </tr>\n",
       "    <tr>\n",
       "      <th>1</th>\n",
       "      <td>536365</td>\n",
       "      <td>71053</td>\n",
       "      <td>WHITE METAL LANTERN</td>\n",
       "      <td>6</td>\n",
       "      <td>2010-12-01 08:26:00</td>\n",
       "      <td>3.39</td>\n",
       "      <td>17850.0</td>\n",
       "      <td>United Kingdom</td>\n",
       "      <td>20.34</td>\n",
       "      <td>2010</td>\n",
       "      <td>12</td>\n",
       "      <td>08:26:00</td>\n",
       "    </tr>\n",
       "    <tr>\n",
       "      <th>2</th>\n",
       "      <td>536365</td>\n",
       "      <td>84406B</td>\n",
       "      <td>CREAM CUPID HEARTS COAT HANGER</td>\n",
       "      <td>8</td>\n",
       "      <td>2010-12-01 08:26:00</td>\n",
       "      <td>2.75</td>\n",
       "      <td>17850.0</td>\n",
       "      <td>United Kingdom</td>\n",
       "      <td>22.00</td>\n",
       "      <td>2010</td>\n",
       "      <td>12</td>\n",
       "      <td>08:26:00</td>\n",
       "    </tr>\n",
       "    <tr>\n",
       "      <th>3</th>\n",
       "      <td>536365</td>\n",
       "      <td>84029G</td>\n",
       "      <td>KNITTED UNION FLAG HOT WATER BOTTLE</td>\n",
       "      <td>6</td>\n",
       "      <td>2010-12-01 08:26:00</td>\n",
       "      <td>3.39</td>\n",
       "      <td>17850.0</td>\n",
       "      <td>United Kingdom</td>\n",
       "      <td>20.34</td>\n",
       "      <td>2010</td>\n",
       "      <td>12</td>\n",
       "      <td>08:26:00</td>\n",
       "    </tr>\n",
       "    <tr>\n",
       "      <th>4</th>\n",
       "      <td>536365</td>\n",
       "      <td>84029E</td>\n",
       "      <td>RED WOOLLY HOTTIE WHITE HEART.</td>\n",
       "      <td>6</td>\n",
       "      <td>2010-12-01 08:26:00</td>\n",
       "      <td>3.39</td>\n",
       "      <td>17850.0</td>\n",
       "      <td>United Kingdom</td>\n",
       "      <td>20.34</td>\n",
       "      <td>2010</td>\n",
       "      <td>12</td>\n",
       "      <td>08:26:00</td>\n",
       "    </tr>\n",
       "  </tbody>\n",
       "</table>\n",
       "</div>"
      ],
      "text/plain": [
       "  InvoiceNo StockCode                          Description  Quantity  \\\n",
       "0    536365    85123A   WHITE HANGING HEART T-LIGHT HOLDER         6   \n",
       "1    536365     71053                  WHITE METAL LANTERN         6   \n",
       "2    536365    84406B       CREAM CUPID HEARTS COAT HANGER         8   \n",
       "3    536365    84029G  KNITTED UNION FLAG HOT WATER BOTTLE         6   \n",
       "4    536365    84029E       RED WOOLLY HOTTIE WHITE HEART.         6   \n",
       "\n",
       "          InvoiceDate  UnitPrice  CustomerID         Country  Amount  Year  \\\n",
       "0 2010-12-01 08:26:00       2.55     17850.0  United Kingdom   15.30  2010   \n",
       "1 2010-12-01 08:26:00       3.39     17850.0  United Kingdom   20.34  2010   \n",
       "2 2010-12-01 08:26:00       2.75     17850.0  United Kingdom   22.00  2010   \n",
       "3 2010-12-01 08:26:00       3.39     17850.0  United Kingdom   20.34  2010   \n",
       "4 2010-12-01 08:26:00       3.39     17850.0  United Kingdom   20.34  2010   \n",
       "\n",
       "   Month      Time  \n",
       "0     12  08:26:00  \n",
       "1     12  08:26:00  \n",
       "2     12  08:26:00  \n",
       "3     12  08:26:00  \n",
       "4     12  08:26:00  "
      ]
     },
     "execution_count": 8,
     "metadata": {},
     "output_type": "execute_result"
    }
   ],
   "source": [
    "Retail_df['InvoiceDate'] = pd.to_datetime(Retail_df['InvoiceDate'], errors='coerce')\n",
    "Retail_df['Year'] = Retail_df['InvoiceDate'].dt.year\n",
    "Retail_df['Month'] = Retail_df['InvoiceDate'].dt.month\n",
    "Retail_df['Time'] = Retail_df['InvoiceDate'].dt.time\n",
    "Retail_df.head()"
   ]
  },
  {
   "cell_type": "code",
   "execution_count": 9,
   "id": "56240572",
   "metadata": {},
   "outputs": [
    {
     "name": "stderr",
     "output_type": "stream",
     "text": [
      "C:\\ProgramData\\anaconda3\\lib\\site-packages\\pandas\\core\\arraylike.py:402: RuntimeWarning: invalid value encountered in sqrt\n",
      "  result = getattr(ufunc, method)(*inputs, **kwargs)\n"
     ]
    },
    {
     "data": {
      "text/html": [
       "<div>\n",
       "<style scoped>\n",
       "    .dataframe tbody tr th:only-of-type {\n",
       "        vertical-align: middle;\n",
       "    }\n",
       "\n",
       "    .dataframe tbody tr th {\n",
       "        vertical-align: top;\n",
       "    }\n",
       "\n",
       "    .dataframe thead th {\n",
       "        text-align: right;\n",
       "    }\n",
       "</style>\n",
       "<table border=\"1\" class=\"dataframe\">\n",
       "  <thead>\n",
       "    <tr style=\"text-align: right;\">\n",
       "      <th></th>\n",
       "      <th>InvoiceNo</th>\n",
       "      <th>StockCode</th>\n",
       "      <th>Description</th>\n",
       "      <th>Quantity</th>\n",
       "      <th>InvoiceDate</th>\n",
       "      <th>UnitPrice</th>\n",
       "      <th>CustomerID</th>\n",
       "      <th>Country</th>\n",
       "      <th>Amount</th>\n",
       "      <th>Year</th>\n",
       "      <th>Month</th>\n",
       "      <th>Time</th>\n",
       "      <th>sqrt_Amount</th>\n",
       "      <th>Domestic</th>\n",
       "    </tr>\n",
       "  </thead>\n",
       "  <tbody>\n",
       "    <tr>\n",
       "      <th>0</th>\n",
       "      <td>536365</td>\n",
       "      <td>85123A</td>\n",
       "      <td>WHITE HANGING HEART T-LIGHT HOLDER</td>\n",
       "      <td>6</td>\n",
       "      <td>2010-12-01 08:26:00</td>\n",
       "      <td>2.55</td>\n",
       "      <td>17850.0</td>\n",
       "      <td>United Kingdom</td>\n",
       "      <td>15.30</td>\n",
       "      <td>2010</td>\n",
       "      <td>12</td>\n",
       "      <td>08:26:00</td>\n",
       "      <td>3.911521</td>\n",
       "      <td>1</td>\n",
       "    </tr>\n",
       "    <tr>\n",
       "      <th>1</th>\n",
       "      <td>536365</td>\n",
       "      <td>71053</td>\n",
       "      <td>WHITE METAL LANTERN</td>\n",
       "      <td>6</td>\n",
       "      <td>2010-12-01 08:26:00</td>\n",
       "      <td>3.39</td>\n",
       "      <td>17850.0</td>\n",
       "      <td>United Kingdom</td>\n",
       "      <td>20.34</td>\n",
       "      <td>2010</td>\n",
       "      <td>12</td>\n",
       "      <td>08:26:00</td>\n",
       "      <td>4.509989</td>\n",
       "      <td>1</td>\n",
       "    </tr>\n",
       "    <tr>\n",
       "      <th>2</th>\n",
       "      <td>536365</td>\n",
       "      <td>84406B</td>\n",
       "      <td>CREAM CUPID HEARTS COAT HANGER</td>\n",
       "      <td>8</td>\n",
       "      <td>2010-12-01 08:26:00</td>\n",
       "      <td>2.75</td>\n",
       "      <td>17850.0</td>\n",
       "      <td>United Kingdom</td>\n",
       "      <td>22.00</td>\n",
       "      <td>2010</td>\n",
       "      <td>12</td>\n",
       "      <td>08:26:00</td>\n",
       "      <td>4.690416</td>\n",
       "      <td>1</td>\n",
       "    </tr>\n",
       "    <tr>\n",
       "      <th>3</th>\n",
       "      <td>536365</td>\n",
       "      <td>84029G</td>\n",
       "      <td>KNITTED UNION FLAG HOT WATER BOTTLE</td>\n",
       "      <td>6</td>\n",
       "      <td>2010-12-01 08:26:00</td>\n",
       "      <td>3.39</td>\n",
       "      <td>17850.0</td>\n",
       "      <td>United Kingdom</td>\n",
       "      <td>20.34</td>\n",
       "      <td>2010</td>\n",
       "      <td>12</td>\n",
       "      <td>08:26:00</td>\n",
       "      <td>4.509989</td>\n",
       "      <td>1</td>\n",
       "    </tr>\n",
       "    <tr>\n",
       "      <th>4</th>\n",
       "      <td>536365</td>\n",
       "      <td>84029E</td>\n",
       "      <td>RED WOOLLY HOTTIE WHITE HEART.</td>\n",
       "      <td>6</td>\n",
       "      <td>2010-12-01 08:26:00</td>\n",
       "      <td>3.39</td>\n",
       "      <td>17850.0</td>\n",
       "      <td>United Kingdom</td>\n",
       "      <td>20.34</td>\n",
       "      <td>2010</td>\n",
       "      <td>12</td>\n",
       "      <td>08:26:00</td>\n",
       "      <td>4.509989</td>\n",
       "      <td>1</td>\n",
       "    </tr>\n",
       "  </tbody>\n",
       "</table>\n",
       "</div>"
      ],
      "text/plain": [
       "  InvoiceNo StockCode                          Description  Quantity  \\\n",
       "0    536365    85123A   WHITE HANGING HEART T-LIGHT HOLDER         6   \n",
       "1    536365     71053                  WHITE METAL LANTERN         6   \n",
       "2    536365    84406B       CREAM CUPID HEARTS COAT HANGER         8   \n",
       "3    536365    84029G  KNITTED UNION FLAG HOT WATER BOTTLE         6   \n",
       "4    536365    84029E       RED WOOLLY HOTTIE WHITE HEART.         6   \n",
       "\n",
       "          InvoiceDate  UnitPrice  CustomerID         Country  Amount  Year  \\\n",
       "0 2010-12-01 08:26:00       2.55     17850.0  United Kingdom   15.30  2010   \n",
       "1 2010-12-01 08:26:00       3.39     17850.0  United Kingdom   20.34  2010   \n",
       "2 2010-12-01 08:26:00       2.75     17850.0  United Kingdom   22.00  2010   \n",
       "3 2010-12-01 08:26:00       3.39     17850.0  United Kingdom   20.34  2010   \n",
       "4 2010-12-01 08:26:00       3.39     17850.0  United Kingdom   20.34  2010   \n",
       "\n",
       "   Month      Time  sqrt_Amount  Domestic  \n",
       "0     12  08:26:00     3.911521         1  \n",
       "1     12  08:26:00     4.509989         1  \n",
       "2     12  08:26:00     4.690416         1  \n",
       "3     12  08:26:00     4.509989         1  \n",
       "4     12  08:26:00     4.509989         1  "
      ]
     },
     "execution_count": 9,
     "metadata": {},
     "output_type": "execute_result"
    }
   ],
   "source": [
    "import numpy as np\n",
    "Retail_df['sqrt_Amount'] = np.sqrt(Retail_df['Amount'])\n",
    "Retail_df['Domestic'] = np.where(Retail_df['Country']=='United Kingdom', 1, 0)\n",
    "Retail_df.head()"
   ]
  },
  {
   "cell_type": "code",
   "execution_count": 10,
   "id": "7ee05328",
   "metadata": {},
   "outputs": [
    {
     "name": "stdout",
     "output_type": "stream",
     "text": [
      "Number of null values: 0\n"
     ]
    }
   ],
   "source": [
    "null_count = pd.isnull(Retail_df[\"InvoiceNo\"]).sum()\n",
    "print ('Number of null values:', null_count)"
   ]
  },
  {
   "cell_type": "code",
   "execution_count": 81,
   "id": "b384bf02",
   "metadata": {},
   "outputs": [
    {
     "name": "stdout",
     "output_type": "stream",
     "text": [
      "Number of Total values invoices: 22064\n"
     ]
    }
   ],
   "source": [
    "unique_value_invoice=len(pd.unique(Retail_df[\"InvoiceNo\"]))\n",
    "print ('Number of Total values invoices:', unique_value_invoice)"
   ]
  },
  {
   "cell_type": "code",
   "execution_count": 12,
   "id": "01f78909",
   "metadata": {},
   "outputs": [
    {
     "name": "stdout",
     "output_type": "stream",
     "text": [
      "Number of null values: 134697\n"
     ]
    }
   ],
   "source": [
    "null_count = pd.isnull(Retail_df[\"CustomerID\"]).sum()\n",
    "print ('Number of null values:', null_count)"
   ]
  },
  {
   "cell_type": "code",
   "execution_count": 13,
   "id": "502500be",
   "metadata": {},
   "outputs": [
    {
     "name": "stdout",
     "output_type": "stream",
     "text": [
      "Number of unique values: 4340\n"
     ]
    }
   ],
   "source": [
    "unique_value=len(pd.unique(Retail_df[\"CustomerID\"]))\n",
    "print ('Number of unique values:', unique_value)"
   ]
  },
  {
   "cell_type": "code",
   "execution_count": null,
   "id": "602f82cc",
   "metadata": {},
   "outputs": [],
   "source": [
    "total_order = (pd.unique(Retail_df[\"CustomerID\"]))\n",
    "print (total_order)"
   ]
  },
  {
   "cell_type": "code",
   "execution_count": 15,
   "id": "c9ef3a39",
   "metadata": {},
   "outputs": [
    {
     "data": {
      "text/plain": [
       "406829"
      ]
     },
     "execution_count": 15,
     "metadata": {},
     "output_type": "execute_result"
    }
   ],
   "source": [
    "# total data - null values \n",
    "541909 - 135080"
   ]
  },
  {
   "cell_type": "code",
   "execution_count": 16,
   "id": "975a1742",
   "metadata": {},
   "outputs": [
    {
     "data": {
      "text/plain": [
       "93.03201463526183"
      ]
     },
     "execution_count": 16,
     "metadata": {},
     "output_type": "execute_result"
    }
   ],
   "source": [
    "# average visit of a customer in our platform ( deviding Notnull value with unique )\n",
    "406829 / 4373 "
   ]
  },
  {
   "cell_type": "code",
   "execution_count": 17,
   "id": "8444a3b0",
   "metadata": {},
   "outputs": [
    {
     "data": {
      "text/plain": [
       "1448.3548387096773"
      ]
     },
     "execution_count": 17,
     "metadata": {},
     "output_type": "execute_result"
    }
   ],
   "source": [
    "null_count / 93"
   ]
  },
  {
   "cell_type": "code",
   "execution_count": 18,
   "id": "6edcc480",
   "metadata": {},
   "outputs": [
    {
     "data": {
      "text/plain": [
       "5792"
      ]
     },
     "execution_count": 18,
     "metadata": {},
     "output_type": "execute_result"
    }
   ],
   "source": [
    "#estimated unique customers are \n",
    "4340 + 1452"
   ]
  },
  {
   "cell_type": "code",
   "execution_count": 82,
   "id": "92408b48",
   "metadata": {},
   "outputs": [
    {
     "name": "stdout",
     "output_type": "stream",
     "text": [
      "482.4401932559827\n"
     ]
    }
   ],
   "source": [
    "# Average amount of transaction     \n",
    "amount= (Retail_df[\"Quantity\"]) * (Retail_df[\"UnitPrice\"])\n",
    "total_amount= amount.sum()\n",
    "Average_amount = total_amount / unique_value_invoice\n",
    "print(Average_amount)"
   ]
  },
  {
   "cell_type": "code",
   "execution_count": 83,
   "id": "58434198",
   "metadata": {},
   "outputs": [
    {
     "name": "stdout",
     "output_type": "stream",
     "text": [
      "247\n"
     ]
    }
   ],
   "source": [
    "# Average basket size \n",
    "basket = (Retail_df[\"Quantity\"]).sum()\n",
    "Average_basket = round( basket/unique_value_invoice )\n",
    "print(Average_basket)"
   ]
  },
  {
   "cell_type": "code",
   "execution_count": 23,
   "id": "22d1428d",
   "metadata": {},
   "outputs": [
    {
     "name": "stdout",
     "output_type": "stream",
     "text": [
      "11    83635\n",
      "12    66918\n",
      "10    59542\n",
      "9     49421\n",
      "7     38833\n",
      "Name: Month, dtype: int64\n",
      "15:56:00    2622\n",
      "14:41:00    2549\n",
      "15:17:00    2366\n",
      "16:14:00    2345\n",
      "14:09:00    2163\n",
      "Name: Time, dtype: int64\n"
     ]
    }
   ],
   "source": [
    "top_sale=Retail_df[\"Month\"].value_counts().nlargest(5)\n",
    "print(top_sale)\n",
    "top_sale_time=Retail_df[\"Time\"].value_counts().nlargest(5)\n",
    "print(top_sale_time)"
   ]
  },
  {
   "cell_type": "code",
   "execution_count": 24,
   "id": "1d5d3256",
   "metadata": {},
   "outputs": [
    {
     "name": "stdout",
     "output_type": "stream",
     "text": [
      "Number of unique values product: 4208\n"
     ]
    }
   ],
   "source": [
    "# Types of product in store\n",
    "distinct_products=len(pd.unique(Retail_df[\"Description\"]))\n",
    "print ('Number of unique values product:',  distinct_products)"
   ]
  },
  {
   "cell_type": "code",
   "execution_count": 25,
   "id": "cd1663b9",
   "metadata": {},
   "outputs": [
    {
     "name": "stdout",
     "output_type": "stream",
     "text": [
      "WHITE HANGING HEART T-LIGHT HOLDER    2327\n",
      "JUMBO BAG RED RETROSPOT               2115\n",
      "REGENCY CAKESTAND 3 TIER              2019\n",
      "PARTY BUNTING                         1707\n",
      "LUNCH BAG RED RETROSPOT               1594\n",
      "ASSORTED COLOUR BIRD ORNAMENT         1489\n",
      "SET OF 3 CAKE TINS PANTRY DESIGN      1399\n",
      "PACK OF 72 RETROSPOT CAKE CASES       1370\n",
      "LUNCH BAG  BLACK SKULL.               1328\n",
      "NATURAL SLATE HEART CHALKBOARD        1263\n",
      "JUMBO BAG PINK POLKADOT               1238\n",
      "HEART OF WICKER SMALL                 1226\n",
      "PAPER CHAIN KIT 50'S CHRISTMAS        1200\n",
      "JUMBO STORAGE BAG SUKI                1197\n",
      "JUMBO SHOPPER VINTAGE RED PAISLEY     1190\n",
      "LUNCH BAG SPACEBOY DESIGN             1179\n",
      "LUNCH BAG CARS BLUE                   1174\n",
      "JAM MAKING SET PRINTED                1169\n",
      "SPOTTY BUNTING                        1160\n",
      "JAM MAKING SET WITH JARS              1142\n",
      "Name: Description, dtype: int64\n"
     ]
    }
   ],
   "source": [
    "top_products= Retail_df[\"Description\"].value_counts().nlargest(20)\n",
    "print(top_products)"
   ]
  },
  {
   "cell_type": "code",
   "execution_count": 26,
   "id": "917c6390",
   "metadata": {},
   "outputs": [
    {
     "name": "stdout",
     "output_type": "stream",
     "text": [
      "CROCHET LILAC/RED BEAR KEYRING         1\n",
      "MERCHANT CHANDLER CREDIT ERROR, STO    1\n",
      "thrown away-can't sell                 1\n",
      "wet boxes                              1\n",
      "cracked                                1\n",
      "?? missing                             1\n",
      "check?                                 1\n",
      "thrown away-can't sell.                1\n",
      "POSSIBLE DAMAGES OR LOST?              1\n",
      "????damages????                        1\n",
      "LARGE HEART FLOWERS HOOK               1\n",
      "sold as 22467                          1\n",
      "ORANGE FELT VASE + FLOWERS             1\n",
      "incorrectly made-thrown away.          1\n",
      "lost                                   1\n",
      "BLACK CHERRY LIGHTS                    1\n",
      "ASSORTED COLOUR SILK GLASSES CASE      1\n",
      "M/COLOUR POM-POM CURTAIN               1\n",
      "SCALLOP SHELL SOAP DISH                1\n",
      "PINK CHERRY BLOSSOM CUP & SAUCER       1\n",
      "Name: Description, dtype: int64\n"
     ]
    }
   ],
   "source": [
    "least_products= Retail_df[\"Description\"].value_counts().nsmallest(20)\n",
    "print(least_products)"
   ]
  },
  {
   "cell_type": "code",
   "execution_count": 27,
   "id": "72ec3c6c",
   "metadata": {},
   "outputs": [
    {
     "name": "stdout",
     "output_type": "stream",
     "text": [
      "Saudi Arabia                 9\n",
      "Bahrain                     18\n",
      "Czech Republic              25\n",
      "Brazil                      32\n",
      "Lithuania                   35\n",
      "Lebanon                     45\n",
      "RSA                         58\n",
      "European Community          60\n",
      "United Arab Emirates        68\n",
      "Malta                      112\n",
      "Greece                     145\n",
      "Canada                     151\n",
      "USA                        179\n",
      "Iceland                    182\n",
      "Singapore                  222\n",
      "Hong Kong                  284\n",
      "Israel                     295\n",
      "Japan                      321\n",
      "Poland                     330\n",
      "Denmark                    380\n",
      "Austria                    398\n",
      "Unspecified                446\n",
      "Sweden                     451\n",
      "Cyprus                     614\n",
      "Finland                    685\n",
      "Channel Islands            748\n",
      "Italy                      758\n",
      "Norway                    1072\n",
      "Australia                 1185\n",
      "Portugal                  1501\n",
      "Switzerland               1967\n",
      "Belgium                   2031\n",
      "Netherlands               2363\n",
      "Spain                     2485\n",
      "EIRE                      7894\n",
      "France                    8408\n",
      "Germany                   9042\n",
      "United Kingdom          487622\n",
      "Name: Country, dtype: int64\n"
     ]
    }
   ],
   "source": [
    "least_Country= Retail_df[\"Country\"].value_counts().nsmallest(38)\n",
    "print(least_Country)"
   ]
  },
  {
   "cell_type": "code",
   "execution_count": 62,
   "id": "60c2cc7f",
   "metadata": {},
   "outputs": [
    {
     "name": "stdout",
     "output_type": "stream",
     "text": [
      "                 Country       Amount\n",
      "0              Australia   138521.310\n",
      "1                Austria    10198.680\n",
      "2                Bahrain      754.140\n",
      "3                Belgium    41196.340\n",
      "4                 Brazil     1143.600\n",
      "5                 Canada     3666.380\n",
      "6        Channel Islands    20450.440\n",
      "7                 Cyprus    13590.380\n",
      "8         Czech Republic      826.740\n",
      "9                Denmark    18955.340\n",
      "10                  EIRE   283453.960\n",
      "11    European Community     1300.250\n",
      "12               Finland    22546.080\n",
      "13                France   209715.110\n",
      "14               Germany   228867.140\n",
      "15                Greece     4760.520\n",
      "16             Hong Kong    15691.800\n",
      "17               Iceland     4310.000\n",
      "18                Israel     8135.260\n",
      "19                 Italy    17483.240\n",
      "20                 Japan    37416.370\n",
      "21               Lebanon     1693.880\n",
      "22             Lithuania     1661.060\n",
      "23                 Malta     2725.590\n",
      "24           Netherlands   285446.340\n",
      "25                Norway    36165.440\n",
      "26                Poland     7334.650\n",
      "27              Portugal    33747.100\n",
      "28                   RSA     1002.310\n",
      "29          Saudi Arabia      145.920\n",
      "30             Singapore    21279.290\n",
      "31                 Spain    61577.110\n",
      "32                Sweden    38378.330\n",
      "33           Switzerland    57089.900\n",
      "34                   USA     3580.390\n",
      "35  United Arab Emirates     1902.280\n",
      "36        United Kingdom  9003097.964\n",
      "37           Unspecified     4749.790\n"
     ]
    }
   ],
   "source": [
    "country_sales = Retail_df.groupby('Country')['Amount'].sum().reset_index()\n",
    "print(country_sales)"
   ]
  },
  {
   "cell_type": "code",
   "execution_count": 90,
   "id": "753d2712",
   "metadata": {},
   "outputs": [
    {
     "name": "stdout",
     "output_type": "stream",
     "text": [
      "Country\n",
      "Australia               116.895620\n",
      "Austria                  25.624824\n",
      "Bahrain                  41.896667\n",
      "Belgium                  20.283772\n",
      "Brazil                   35.737500\n",
      "Canada                   24.280662\n",
      "Channel Islands          27.340160\n",
      "Cyprus                   22.134169\n",
      "Czech Republic           33.069600\n",
      "Denmark                  49.882474\n",
      "EIRE                     35.907520\n",
      "European Community       21.670833\n",
      "Finland                  32.913985\n",
      "France                   24.942330\n",
      "Germany                  25.311562\n",
      "Greece                   32.831172\n",
      "Hong Kong                55.252817\n",
      "Iceland                  23.681319\n",
      "Israel                   27.577153\n",
      "Italy                    23.064960\n",
      "Japan                   116.561900\n",
      "Lebanon                  37.641778\n",
      "Lithuania                47.458857\n",
      "Malta                    24.335625\n",
      "Netherlands             120.798282\n",
      "Norway                   33.736418\n",
      "Poland                   22.226212\n",
      "Portugal                 22.483078\n",
      "RSA                      17.281207\n",
      "Saudi Arabia             16.213333\n",
      "Singapore                95.852658\n",
      "Spain                    24.779521\n",
      "Sweden                   85.096075\n",
      "Switzerland              29.023843\n",
      "USA                      20.002179\n",
      "United Arab Emirates     27.974706\n",
      "United Kingdom           18.463273\n",
      "Unspecified              10.649753\n",
      "Name: Amount, dtype: float64\n"
     ]
    }
   ],
   "source": [
    "sat= Retail_df.groupby('Country')['Amount'].mean()\n",
    "print(sat)"
   ]
  },
  {
   "cell_type": "code",
   "execution_count": 86,
   "id": "15ef9e7c",
   "metadata": {},
   "outputs": [
    {
     "name": "stdout",
     "output_type": "stream",
     "text": [
      "         Time   Amount  InvoiceNo  CustomerID         Country  StockCode  \\\n",
      "0    06:20:00     4.25          1     14305.0  United Kingdom          1   \n",
      "1    07:35:00  2509.56          2     13098.0  United Kingdom         43   \n",
      "2    07:36:00  5867.08          1     14156.0            EIRE         27   \n",
      "3    07:37:00   819.03          3     14619.0  United Kingdom         26   \n",
      "4    07:38:00   604.81          2     15643.0  United Kingdom         23   \n",
      "..        ...      ...        ...         ...             ...        ...   \n",
      "737  20:09:00  1090.93          1     17602.0  United Kingdom        122   \n",
      "738  20:12:00   474.19          1     15861.0  United Kingdom         64   \n",
      "739  20:13:00   500.90          1     17337.0  United Kingdom        122   \n",
      "740  20:16:00   227.08          1     17530.0  United Kingdom         22   \n",
      "741  20:18:00   248.29          1     15861.0  United Kingdom         49   \n",
      "\n",
      "     Year  Domestic  sqrt_Amount  \n",
      "0    2011         1     2.061553  \n",
      "1    2011         1   282.309727  \n",
      "2    2011         0   375.481345  \n",
      "3    2011         1   133.239423  \n",
      "4    2011         1   113.716174  \n",
      "..    ...       ...          ...  \n",
      "737  2011         1   356.695024  \n",
      "738  2011         1   163.103619  \n",
      "739  2011         1   223.711778  \n",
      "740  2011         1    64.296875  \n",
      "741  2011         1   104.973191  \n",
      "\n",
      "[742 rows x 9 columns]\n"
     ]
    }
   ],
   "source": [
    "Time_sale=Retail_df.groupby('Time').agg({'Amount': 'sum', 'InvoiceNo': 'nunique', \n",
    "                                               \"CustomerID\" : \"first\" , \"Country\": \"first\",\n",
    "                                              \"StockCode\" : \"nunique\",\"Year\": \"first\" , \"Domestic\" : \"first\",\n",
    "                                         'sqrt_Amount': 'sum' }).reset_index()\n",
    "print(Time_sale)"
   ]
  },
  {
   "cell_type": "code",
   "execution_count": 89,
   "id": "59519905",
   "metadata": {},
   "outputs": [
    {
     "data": {
      "text/plain": [
       "<Figure size 640x480 with 0 Axes>"
      ]
     },
     "metadata": {},
     "output_type": "display_data"
    },
    {
     "data": {
      "image/png": "[encoded data removed]",
      "text/plain": [
       "<Figure size 640x480 with 1 Axes>"
      ]
     },
     "metadata": {},
     "output_type": "display_data"
    }
   ],
   "source": [
    "import matplotlib.pyplot as plt\n",
    "plt.figure()\n",
    "Time_sale.plot(x='Time', y='Amount' , kind=\"line\", legend=True , marker='o' , color='b' )\n",
    "plt.title('Line Graph of monthly sale')\n",
    "plt.xlabel('Month')\n",
    "plt.ylabel('Amount in million')\n",
    "plt.show()"
   ]
  },
  {
   "cell_type": "code",
   "execution_count": 28,
   "id": "2d93ba70",
   "metadata": {},
   "outputs": [
    {
     "name": "stdout",
     "output_type": "stream",
     "text": [
      "    Month       Amount  InvoiceNo  CustomerID         Country  StockCode  \\\n",
      "0       1   691364.560       1216     13313.0  United Kingdom       2627   \n",
      "1       2   523631.890       1174     15240.0  United Kingdom       2414   \n",
      "2       3   717639.360       1665     14620.0  United Kingdom       2553   \n",
      "3       4   537808.621       1504     18161.0  United Kingdom       2550   \n",
      "4       5   770536.020       1848     15606.0  United Kingdom       2496   \n",
      "5       6   761739.900       1683     15643.0  United Kingdom       2662   \n",
      "6       7   719221.191       1657     16317.0  United Kingdom       2730   \n",
      "7       8   737014.260       1459     17941.0  United Kingdom       2602   \n",
      "8       9  1058590.172       1994     13509.0  United Kingdom       2759   \n",
      "9      10  1154979.300       2275     16353.0  United Kingdom       2888   \n",
      "10     11  1509496.330       3021     17733.0  United Kingdom       2954   \n",
      "11     12  1462538.820       2568     17850.0  United Kingdom       3463   \n",
      "\n",
      "    Year  Domestic    sqrt_Amount      Time  \n",
      "0   2011         1  116134.004323  10:00:00  \n",
      "1   2011         1   97574.364509  08:23:00  \n",
      "2   2011         1  128907.982092  08:30:00  \n",
      "3   2011         1  101751.716927  08:22:00  \n",
      "4   2011         1  135941.532297  10:51:00  \n",
      "5   2011         1  128967.723588  07:37:00  \n",
      "6   2011         1  131559.684214  08:16:00  \n",
      "7   2011         1  128918.860182  08:30:00  \n",
      "8   2011         1  182927.307275  08:25:00  \n",
      "9   2011         1  207764.874216  10:32:00  \n",
      "10  2011         1  278510.999775  08:16:00  \n",
      "11  2010         1  229512.812904  08:26:00  \n"
     ]
    }
   ],
   "source": [
    "Month_sale=Retail_df.groupby('Month').agg({'Amount': 'sum', 'InvoiceNo': 'nunique', \n",
    "                                               \"CustomerID\" : \"first\" , \"Country\": \"first\",\n",
    "                                              \"StockCode\" : \"nunique\",\"Year\": \"first\" , \"Domestic\" : \"first\",\n",
    "                                         'sqrt_Amount': 'sum', \"Time\":\"first\" }).reset_index()\n",
    "print(Month_sale)"
   ]
  },
  {
   "cell_type": "code",
   "execution_count": null,
   "id": "60033ba4",
   "metadata": {},
   "outputs": [],
   "source": []
  },
  {
   "cell_type": "code",
   "execution_count": 84,
   "id": "c51b1c75",
   "metadata": {},
   "outputs": [
    {
     "data": {
      "text/html": [
       "<div>\n",
       "<style scoped>\n",
       "    .dataframe tbody tr th:only-of-type {\n",
       "        vertical-align: middle;\n",
       "    }\n",
       "\n",
       "    .dataframe tbody tr th {\n",
       "        vertical-align: top;\n",
       "    }\n",
       "\n",
       "    .dataframe thead th {\n",
       "        text-align: right;\n",
       "    }\n",
       "</style>\n",
       "<table border=\"1\" class=\"dataframe\">\n",
       "  <thead>\n",
       "    <tr style=\"text-align: right;\">\n",
       "      <th></th>\n",
       "      <th>Month</th>\n",
       "      <th>Amount</th>\n",
       "      <th>InvoiceNo</th>\n",
       "      <th>CustomerID</th>\n",
       "      <th>Country</th>\n",
       "      <th>StockCode</th>\n",
       "      <th>Year</th>\n",
       "      <th>Domestic</th>\n",
       "      <th>sqrt_Amount</th>\n",
       "      <th>Time</th>\n",
       "    </tr>\n",
       "  </thead>\n",
       "  <tbody>\n",
       "    <tr>\n",
       "      <th>0</th>\n",
       "      <td>1</td>\n",
       "      <td>691364.560</td>\n",
       "      <td>1216</td>\n",
       "      <td>13313.0</td>\n",
       "      <td>United Kingdom</td>\n",
       "      <td>2627</td>\n",
       "      <td>2011</td>\n",
       "      <td>1</td>\n",
       "      <td>116134.004323</td>\n",
       "      <td>10:00:00</td>\n",
       "    </tr>\n",
       "    <tr>\n",
       "      <th>1</th>\n",
       "      <td>2</td>\n",
       "      <td>523631.890</td>\n",
       "      <td>1174</td>\n",
       "      <td>15240.0</td>\n",
       "      <td>United Kingdom</td>\n",
       "      <td>2414</td>\n",
       "      <td>2011</td>\n",
       "      <td>1</td>\n",
       "      <td>97574.364509</td>\n",
       "      <td>08:23:00</td>\n",
       "    </tr>\n",
       "    <tr>\n",
       "      <th>2</th>\n",
       "      <td>3</td>\n",
       "      <td>717639.360</td>\n",
       "      <td>1665</td>\n",
       "      <td>14620.0</td>\n",
       "      <td>United Kingdom</td>\n",
       "      <td>2553</td>\n",
       "      <td>2011</td>\n",
       "      <td>1</td>\n",
       "      <td>128907.982092</td>\n",
       "      <td>08:30:00</td>\n",
       "    </tr>\n",
       "    <tr>\n",
       "      <th>3</th>\n",
       "      <td>4</td>\n",
       "      <td>537808.621</td>\n",
       "      <td>1504</td>\n",
       "      <td>18161.0</td>\n",
       "      <td>United Kingdom</td>\n",
       "      <td>2550</td>\n",
       "      <td>2011</td>\n",
       "      <td>1</td>\n",
       "      <td>101751.716927</td>\n",
       "      <td>08:22:00</td>\n",
       "    </tr>\n",
       "    <tr>\n",
       "      <th>4</th>\n",
       "      <td>5</td>\n",
       "      <td>770536.020</td>\n",
       "      <td>1848</td>\n",
       "      <td>15606.0</td>\n",
       "      <td>United Kingdom</td>\n",
       "      <td>2496</td>\n",
       "      <td>2011</td>\n",
       "      <td>1</td>\n",
       "      <td>135941.532297</td>\n",
       "      <td>10:51:00</td>\n",
       "    </tr>\n",
       "  </tbody>\n",
       "</table>\n",
       "</div>"
      ],
      "text/plain": [
       "   Month      Amount  InvoiceNo  CustomerID         Country  StockCode  Year  \\\n",
       "0      1  691364.560       1216     13313.0  United Kingdom       2627  2011   \n",
       "1      2  523631.890       1174     15240.0  United Kingdom       2414  2011   \n",
       "2      3  717639.360       1665     14620.0  United Kingdom       2553  2011   \n",
       "3      4  537808.621       1504     18161.0  United Kingdom       2550  2011   \n",
       "4      5  770536.020       1848     15606.0  United Kingdom       2496  2011   \n",
       "\n",
       "   Domestic    sqrt_Amount      Time  \n",
       "0         1  116134.004323  10:00:00  \n",
       "1         1   97574.364509  08:23:00  \n",
       "2         1  128907.982092  08:30:00  \n",
       "3         1  101751.716927  08:22:00  \n",
       "4         1  135941.532297  10:51:00  "
      ]
     },
     "execution_count": 84,
     "metadata": {},
     "output_type": "execute_result"
    }
   ],
   "source": [
    "Month_sale.head()"
   ]
  },
  {
   "cell_type": "code",
   "execution_count": 29,
   "id": "35347f35",
   "metadata": {},
   "outputs": [
    {
     "data": {
      "text/plain": [
       "<Figure size 640x480 with 0 Axes>"
      ]
     },
     "metadata": {},
     "output_type": "display_data"
    },
    {
     "data": {
      "image/png": "[encoded data removed]",
      "text/plain": [
       "<Figure size 640x480 with 1 Axes>"
      ]
     },
     "metadata": {},
     "output_type": "display_data"
    }
   ],
   "source": [
    "import matplotlib.pyplot as plt\n",
    "plt.figure()\n",
    "Month_sale.plot(x='Month', y='Amount' , kind=\"line\", legend=True , marker='o' , color='b' )\n",
    "plt.title('Line Graph of monthly sale')\n",
    "plt.xlabel('Month')\n",
    "plt.ylabel('Amount in million')\n",
    "plt.show()"
   ]
  },
  {
   "cell_type": "code",
   "execution_count": 30,
   "id": "e2758f4e",
   "metadata": {},
   "outputs": [],
   "source": [
    "import pandas as pd\n",
    "from sklearn.model_selection import train_test_split\n",
    "from sklearn import tree\n",
    "from sklearn.tree import DecisionTreeClassifier\n",
    "from sklearn.metrics import accuracy_score, classification_report, confusion_matrix\n",
    "from sklearn.metrics import roc_curve, roc_auc_score, auc\n",
    "from matplotlib import pyplot as plt\n",
    "import seaborn as sns"
   ]
  },
  {
   "cell_type": "code",
   "execution_count": 31,
   "id": "136a8325",
   "metadata": {},
   "outputs": [],
   "source": [
    "X_train, X_test, y_train, y_test = train_test_split(Month_sale[['Amount', 'Domestic']],\n",
    "                                                    Month_sale['Month'],  test_size=0.20)"
   ]
  },
  {
   "cell_type": "code",
   "execution_count": 34,
   "id": "65e4993a",
   "metadata": {},
   "outputs": [
    {
     "data": {
      "text/html": [
       "<style>#sk-container-id-2 {color: black;background-color: white;}#sk-container-id-2 pre{padding: 0;}#sk-container-id-2 div.sk-toggleable {background-color: white;}#sk-container-id-2 label.sk-toggleable__label {cursor: pointer;display: block;width: 100%;margin-bottom: 0;padding: 0.3em;box-sizing: border-box;text-align: center;}#sk-container-id-2 label.sk-toggleable__label-arrow:before {content: \"▸\";float: left;margin-right: 0.25em;color: #696969;}#sk-container-id-2 label.sk-toggleable__label-arrow:hover:before {color: black;}#sk-container-id-2 div.sk-estimator:hover label.sk-toggleable__label-arrow:before {color: black;}#sk-container-id-2 div.sk-toggleable__content {max-height: 0;max-width: 0;overflow: hidden;text-align: left;background-color: #f0f8ff;}#sk-container-id-2 div.sk-toggleable__content pre {margin: 0.2em;color: black;border-radius: 0.25em;background-color: #f0f8ff;}#sk-container-id-2 input.sk-toggleable__control:checked~div.sk-toggleable__content {max-height: 200px;max-width: 100%;overflow: auto;}#sk-container-id-2 input.sk-toggleable__control:checked~label.sk-toggleable__label-arrow:before {content: \"▾\";}#sk-container-id-2 div.sk-estimator input.sk-toggleable__control:checked~label.sk-toggleable__label {background-color: #d4ebff;}#sk-container-id-2 div.sk-label input.sk-toggleable__control:checked~label.sk-toggleable__label {background-color: #d4ebff;}#sk-container-id-2 input.sk-hidden--visually {border: 0;clip: rect(1px 1px 1px 1px);clip: rect(1px, 1px, 1px, 1px);height: 1px;margin: -1px;overflow: hidden;padding: 0;position: absolute;width: 1px;}#sk-container-id-2 div.sk-estimator {font-family: monospace;background-color: #f0f8ff;border: 1px dotted black;border-radius: 0.25em;box-sizing: border-box;margin-bottom: 0.5em;}#sk-container-id-2 div.sk-estimator:hover {background-color: #d4ebff;}#sk-container-id-2 div.sk-parallel-item::after {content: \"\";width: 100%;border-bottom: 1px solid gray;flex-grow: 1;}#sk-container-id-2 div.sk-label:hover label.sk-toggleable__label {background-color: #d4ebff;}#sk-container-id-2 div.sk-serial::before {content: \"\";position: absolute;border-left: 1px solid gray;box-sizing: border-box;top: 0;bottom: 0;left: 50%;z-index: 0;}#sk-container-id-2 div.sk-serial {display: flex;flex-direction: column;align-items: center;background-color: white;padding-right: 0.2em;padding-left: 0.2em;position: relative;}#sk-container-id-2 div.sk-item {position: relative;z-index: 1;}#sk-container-id-2 div.sk-parallel {display: flex;align-items: stretch;justify-content: center;background-color: white;position: relative;}#sk-container-id-2 div.sk-item::before, #sk-container-id-2 div.sk-parallel-item::before {content: \"\";position: absolute;border-left: 1px solid gray;box-sizing: border-box;top: 0;bottom: 0;left: 50%;z-index: -1;}#sk-container-id-2 div.sk-parallel-item {display: flex;flex-direction: column;z-index: 1;position: relative;background-color: white;}#sk-container-id-2 div.sk-parallel-item:first-child::after {align-self: flex-end;width: 50%;}#sk-container-id-2 div.sk-parallel-item:last-child::after {align-self: flex-start;width: 50%;}#sk-container-id-2 div.sk-parallel-item:only-child::after {width: 0;}#sk-container-id-2 div.sk-dashed-wrapped {border: 1px dashed gray;margin: 0 0.4em 0.5em 0.4em;box-sizing: border-box;padding-bottom: 0.4em;background-color: white;}#sk-container-id-2 div.sk-label label {font-family: monospace;font-weight: bold;display: inline-block;line-height: 1.2em;}#sk-container-id-2 div.sk-label-container {text-align: center;}#sk-container-id-2 div.sk-container {/* jupyter's `normalize.less` sets `[hidden] { display: none; }` but bootstrap.min.css set `[hidden] { display: none !important; }` so we also need the `!important` here to be able to override the default hidden behavior on the sphinx rendered scikit-learn.org. See: https://github.com/scikit-learn/scikit-learn/issues/21755 */display: inline-block !important;position: relative;}#sk-container-id-2 div.sk-text-repr-fallback {display: none;}</style><div id=\"sk-container-id-2\" class=\"sk-top-container\"><div class=\"sk-text-repr-fallback\"><pre>DecisionTreeClassifier(criterion=&#x27;entropy&#x27;, max_depth=3)</pre><b>In a Jupyter environment, please rerun this cell to show the HTML representation or trust the notebook. <br />On GitHub, the HTML representation is unable to render, please try loading this page with nbviewer.org.</b></div><div class=\"sk-container\" hidden><div class=\"sk-item\"><div class=\"sk-estimator sk-toggleable\"><input class=\"sk-toggleable__control sk-hidden--visually\" id=\"sk-estimator-id-2\" type=\"checkbox\" checked><label for=\"sk-estimator-id-2\" class=\"sk-toggleable__label sk-toggleable__label-arrow\">DecisionTreeClassifier</label><div class=\"sk-toggleable__content\"><pre>DecisionTreeClassifier(criterion=&#x27;entropy&#x27;, max_depth=3)</pre></div></div></div></div></div>"
      ],
      "text/plain": [
       "DecisionTreeClassifier(criterion='entropy', max_depth=3)"
      ]
     },
     "execution_count": 34,
     "metadata": {},
     "output_type": "execute_result"
    }
   ],
   "source": [
    "dtree = DecisionTreeClassifier(max_depth=3, criterion='entropy')\n",
    "dtree.fit(X_train, y_train)"
   ]
  },
  {
   "cell_type": "code",
   "execution_count": 35,
   "id": "f87acd05",
   "metadata": {},
   "outputs": [
    {
     "data": {
      "image/png": "[encoded data removed]",
      "text/plain": [
       "<Figure size 640x480 with 1 Axes>"
      ]
     },
     "metadata": {},
     "output_type": "display_data"
    }
   ],
   "source": [
    "tree.plot_tree(dtree, feature_names=X_train.columns.tolist(), fontsize=5)\n",
    "plt.savefig('tree_high_dpi', dpi=50)\n",
    "plt.show()"
   ]
  },
  {
   "cell_type": "code",
   "execution_count": 36,
   "id": "c6219f6b",
   "metadata": {},
   "outputs": [
    {
     "name": "stdout",
     "output_type": "stream",
     "text": [
      "The Accuracy for Training Set is 88.88888888888889\n"
     ]
    }
   ],
   "source": [
    "train_acc = dtree.score(X_train, y_train)\n",
    "print(\"The Accuracy for Training Set is {}\".format(train_acc*100))"
   ]
  },
  {
   "cell_type": "code",
   "execution_count": 37,
   "id": "8f1e21eb",
   "metadata": {},
   "outputs": [
    {
     "data": {
      "text/html": [
       "<style>#sk-container-id-3 {color: black;background-color: white;}#sk-container-id-3 pre{padding: 0;}#sk-container-id-3 div.sk-toggleable {background-color: white;}#sk-container-id-3 label.sk-toggleable__label {cursor: pointer;display: block;width: 100%;margin-bottom: 0;padding: 0.3em;box-sizing: border-box;text-align: center;}#sk-container-id-3 label.sk-toggleable__label-arrow:before {content: \"▸\";float: left;margin-right: 0.25em;color: #696969;}#sk-container-id-3 label.sk-toggleable__label-arrow:hover:before {color: black;}#sk-container-id-3 div.sk-estimator:hover label.sk-toggleable__label-arrow:before {color: black;}#sk-container-id-3 div.sk-toggleable__content {max-height: 0;max-width: 0;overflow: hidden;text-align: left;background-color: #f0f8ff;}#sk-container-id-3 div.sk-toggleable__content pre {margin: 0.2em;color: black;border-radius: 0.25em;background-color: #f0f8ff;}#sk-container-id-3 input.sk-toggleable__control:checked~div.sk-toggleable__content {max-height: 200px;max-width: 100%;overflow: auto;}#sk-container-id-3 input.sk-toggleable__control:checked~label.sk-toggleable__label-arrow:before {content: \"▾\";}#sk-container-id-3 div.sk-estimator input.sk-toggleable__control:checked~label.sk-toggleable__label {background-color: #d4ebff;}#sk-container-id-3 div.sk-label input.sk-toggleable__control:checked~label.sk-toggleable__label {background-color: #d4ebff;}#sk-container-id-3 input.sk-hidden--visually {border: 0;clip: rect(1px 1px 1px 1px);clip: rect(1px, 1px, 1px, 1px);height: 1px;margin: -1px;overflow: hidden;padding: 0;position: absolute;width: 1px;}#sk-container-id-3 div.sk-estimator {font-family: monospace;background-color: #f0f8ff;border: 1px dotted black;border-radius: 0.25em;box-sizing: border-box;margin-bottom: 0.5em;}#sk-container-id-3 div.sk-estimator:hover {background-color: #d4ebff;}#sk-container-id-3 div.sk-parallel-item::after {content: \"\";width: 100%;border-bottom: 1px solid gray;flex-grow: 1;}#sk-container-id-3 div.sk-label:hover label.sk-toggleable__label {background-color: #d4ebff;}#sk-container-id-3 div.sk-serial::before {content: \"\";position: absolute;border-left: 1px solid gray;box-sizing: border-box;top: 0;bottom: 0;left: 50%;z-index: 0;}#sk-container-id-3 div.sk-serial {display: flex;flex-direction: column;align-items: center;background-color: white;padding-right: 0.2em;padding-left: 0.2em;position: relative;}#sk-container-id-3 div.sk-item {position: relative;z-index: 1;}#sk-container-id-3 div.sk-parallel {display: flex;align-items: stretch;justify-content: center;background-color: white;position: relative;}#sk-container-id-3 div.sk-item::before, #sk-container-id-3 div.sk-parallel-item::before {content: \"\";position: absolute;border-left: 1px solid gray;box-sizing: border-box;top: 0;bottom: 0;left: 50%;z-index: -1;}#sk-container-id-3 div.sk-parallel-item {display: flex;flex-direction: column;z-index: 1;position: relative;background-color: white;}#sk-container-id-3 div.sk-parallel-item:first-child::after {align-self: flex-end;width: 50%;}#sk-container-id-3 div.sk-parallel-item:last-child::after {align-self: flex-start;width: 50%;}#sk-container-id-3 div.sk-parallel-item:only-child::after {width: 0;}#sk-container-id-3 div.sk-dashed-wrapped {border: 1px dashed gray;margin: 0 0.4em 0.5em 0.4em;box-sizing: border-box;padding-bottom: 0.4em;background-color: white;}#sk-container-id-3 div.sk-label label {font-family: monospace;font-weight: bold;display: inline-block;line-height: 1.2em;}#sk-container-id-3 div.sk-label-container {text-align: center;}#sk-container-id-3 div.sk-container {/* jupyter's `normalize.less` sets `[hidden] { display: none; }` but bootstrap.min.css set `[hidden] { display: none !important; }` so we also need the `!important` here to be able to override the default hidden behavior on the sphinx rendered scikit-learn.org. See: https://github.com/scikit-learn/scikit-learn/issues/21755 */display: inline-block !important;position: relative;}#sk-container-id-3 div.sk-text-repr-fallback {display: none;}</style><div id=\"sk-container-id-3\" class=\"sk-top-container\"><div class=\"sk-text-repr-fallback\"><pre>LinearRegression()</pre><b>In a Jupyter environment, please rerun this cell to show the HTML representation or trust the notebook. <br />On GitHub, the HTML representation is unable to render, please try loading this page with nbviewer.org.</b></div><div class=\"sk-container\" hidden><div class=\"sk-item\"><div class=\"sk-estimator sk-toggleable\"><input class=\"sk-toggleable__control sk-hidden--visually\" id=\"sk-estimator-id-3\" type=\"checkbox\" checked><label for=\"sk-estimator-id-3\" class=\"sk-toggleable__label sk-toggleable__label-arrow\">LinearRegression</label><div class=\"sk-toggleable__content\"><pre>LinearRegression()</pre></div></div></div></div></div>"
      ],
      "text/plain": [
       "LinearRegression()"
      ]
     },
     "execution_count": 37,
     "metadata": {},
     "output_type": "execute_result"
    }
   ],
   "source": [
    "from sklearn.linear_model import LinearRegression\n",
    "model = LinearRegression()\n",
    "model.fit(Month_sale[['Month']], Month_sale[['Amount']])"
   ]
  },
  {
   "cell_type": "code",
   "execution_count": 38,
   "id": "b7d66103",
   "metadata": {},
   "outputs": [],
   "source": [
    "from sklearn.metrics import r2_score"
   ]
  },
  {
   "cell_type": "code",
   "execution_count": 39,
   "id": "7bc96e06",
   "metadata": {},
   "outputs": [
    {
     "data": {
      "text/plain": [
       "0.7495167369601801"
      ]
     },
     "execution_count": 39,
     "metadata": {},
     "output_type": "execute_result"
    }
   ],
   "source": [
    "r2_score(Month_sale[['Amount']], model.predict(Month_sale[['Month']]))"
   ]
  },
  {
   "cell_type": "code",
   "execution_count": 40,
   "id": "7f62ce75",
   "metadata": {},
   "outputs": [
    {
     "name": "stdout",
     "output_type": "stream",
     "text": [
      "                            OLS Regression Results                            \n",
      "==============================================================================\n",
      "Dep. Variable:                 Amount   R-squared:                       0.750\n",
      "Model:                            OLS   Adj. R-squared:                  0.724\n",
      "Method:                 Least Squares   F-statistic:                     29.92\n",
      "Date:                Sun, 21 Jan 2024   Prob (F-statistic):           0.000273\n",
      "Time:                        09:44:14   Log-Likelihood:                -160.79\n",
      "No. Observations:                  12   AIC:                             325.6\n",
      "Df Residuals:                      10   BIC:                             326.6\n",
      "Df Model:                           1                                         \n",
      "Covariance Type:            nonrobust                                         \n",
      "==============================================================================\n",
      "                 coef    std err          t      P>|t|      [0.025      0.975]\n",
      "------------------------------------------------------------------------------\n",
      "Intercept   3.671e+05   1.08e+05      3.411      0.007    1.27e+05    6.07e+05\n",
      "Month       7.999e+04   1.46e+04      5.470      0.000    4.74e+04    1.13e+05\n",
      "==============================================================================\n",
      "Omnibus:                        0.222   Durbin-Watson:                   1.119\n",
      "Prob(Omnibus):                  0.895   Jarque-Bera (JB):                0.399\n",
      "Skew:                           0.079   Prob(JB):                        0.819\n",
      "Kurtosis:                       2.121   Cond. No.                         15.9\n",
      "==============================================================================\n",
      "\n",
      "Notes:\n",
      "[1] Standard Errors assume that the covariance matrix of the errors is correctly specified.\n"
     ]
    },
    {
     "name": "stderr",
     "output_type": "stream",
     "text": [
      "C:\\ProgramData\\anaconda3\\lib\\site-packages\\scipy\\stats\\_stats_py.py:1736: UserWarning: kurtosistest only valid for n>=20 ... continuing anyway, n=12\n",
      "  warnings.warn(\"kurtosistest only valid for n>=20 ... continuing \"\n"
     ]
    }
   ],
   "source": [
    "import statsmodels.formula.api as smf\n",
    "import numpy as np\n",
    "result = smf.ols(formula='Amount ~ Month', data=Month_sale).fit()\n",
    "print(result.summary())"
   ]
  },
  {
   "cell_type": "code",
   "execution_count": 41,
   "id": "ea851d0e",
   "metadata": {},
   "outputs": [
    {
     "data": {
      "text/plain": [
       "367094.4254999998"
      ]
     },
     "execution_count": 41,
     "metadata": {},
     "output_type": "execute_result"
    }
   ],
   "source": [
    "b0 = result.params.Intercept\n",
    "b0"
   ]
  },
  {
   "cell_type": "code",
   "execution_count": 42,
   "id": "0eb52d9b",
   "metadata": {},
   "outputs": [
    {
     "data": {
      "text/plain": [
       "79992.65792307699"
      ]
     },
     "execution_count": 42,
     "metadata": {},
     "output_type": "execute_result"
    }
   ],
   "source": [
    "b1 = result.params.Month\n",
    "b1"
   ]
  },
  {
   "cell_type": "code",
   "execution_count": 43,
   "id": "860526e2",
   "metadata": {},
   "outputs": [
    {
     "data": {
      "text/html": [
       "<div>\n",
       "<style scoped>\n",
       "    .dataframe tbody tr th:only-of-type {\n",
       "        vertical-align: middle;\n",
       "    }\n",
       "\n",
       "    .dataframe tbody tr th {\n",
       "        vertical-align: top;\n",
       "    }\n",
       "\n",
       "    .dataframe thead th {\n",
       "        text-align: right;\n",
       "    }\n",
       "</style>\n",
       "<table border=\"1\" class=\"dataframe\">\n",
       "  <thead>\n",
       "    <tr style=\"text-align: right;\">\n",
       "      <th></th>\n",
       "      <th>mean</th>\n",
       "      <th>mean_se</th>\n",
       "      <th>mean_ci_lower</th>\n",
       "      <th>mean_ci_upper</th>\n",
       "      <th>obs_ci_lower</th>\n",
       "      <th>obs_ci_upper</th>\n",
       "    </tr>\n",
       "  </thead>\n",
       "  <tbody>\n",
       "    <tr>\n",
       "      <th>0</th>\n",
       "      <td>4.036342e+07</td>\n",
       "      <td>7.216832e+06</td>\n",
       "      <td>2.428332e+07</td>\n",
       "      <td>5.644353e+07</td>\n",
       "      <td>2.427860e+07</td>\n",
       "      <td>5.644825e+07</td>\n",
       "    </tr>\n",
       "  </tbody>\n",
       "</table>\n",
       "</div>"
      ],
      "text/plain": [
       "           mean       mean_se  mean_ci_lower  mean_ci_upper  obs_ci_lower  \\\n",
       "0  4.036342e+07  7.216832e+06   2.428332e+07   5.644353e+07  2.427860e+07   \n",
       "\n",
       "   obs_ci_upper  \n",
       "0  5.644825e+07  "
      ]
     },
     "execution_count": 43,
     "metadata": {},
     "output_type": "execute_result"
    }
   ],
   "source": [
    "result.get_prediction(pd.Series([500], name='Month')).summary_frame(alpha=0.05)"
   ]
  },
  {
   "cell_type": "code",
   "execution_count": 44,
   "id": "b884101a",
   "metadata": {},
   "outputs": [
    {
     "name": "stdout",
     "output_type": "stream",
     "text": [
      "(6, 10)\n",
      "(6, 10)\n"
     ]
    }
   ],
   "source": [
    "import numpy as np\n",
    "test_df = Month_sale.sample(frac=0.5)\n",
    "train_df = Month_sale[~Month_sale.index.isin(test_df.index)]\n",
    "print(train_df.shape)\n",
    "print(test_df.shape)"
   ]
  },
  {
   "cell_type": "code",
   "execution_count": 51,
   "id": "3e50083d",
   "metadata": {},
   "outputs": [
    {
     "name": "stdout",
     "output_type": "stream",
     "text": [
      "                            OLS Regression Results                            \n",
      "==============================================================================\n",
      "Dep. Variable:                  Month   R-squared:                       0.785\n",
      "Model:                            OLS   Adj. R-squared:                  0.642\n",
      "Method:                 Least Squares   F-statistic:                     5.485\n",
      "Date:                Sun, 21 Jan 2024   Prob (F-statistic):             0.0995\n",
      "Time:                        09:51:26   Log-Likelihood:                -10.536\n",
      "No. Observations:                   6   AIC:                             27.07\n",
      "Df Residuals:                       3   BIC:                             26.45\n",
      "Df Model:                           2                                         \n",
      "Covariance Type:            nonrobust                                         \n",
      "===============================================================================\n",
      "                  coef    std err          t      P>|t|      [0.025      0.975]\n",
      "-------------------------------------------------------------------------------\n",
      "Intercept       0.0779      1.328      0.059      0.957      -4.149       4.305\n",
      "Amount       1.492e-05   1.16e-05      1.290      0.287   -2.19e-05    5.17e-05\n",
      "Domestic        0.0779      1.328      0.059      0.957      -4.149       4.305\n",
      "sqrt_Amount -4.189e-05   6.71e-05     -0.625      0.577      -0.000       0.000\n",
      "==============================================================================\n",
      "Omnibus:                          nan   Durbin-Watson:                   1.198\n",
      "Prob(Omnibus):                    nan   Jarque-Bera (JB):                0.061\n",
      "Skew:                          -0.199   Prob(JB):                        0.970\n",
      "Kurtosis:                       2.710   Cond. No.                     1.51e+19\n",
      "==============================================================================\n",
      "\n",
      "Notes:\n",
      "[1] Standard Errors assume that the covariance matrix of the errors is correctly specified.\n",
      "[2] The smallest eigenvalue is 3.22e-26. This might indicate that there are\n",
      "strong multicollinearity problems or that the design matrix is singular.\n"
     ]
    },
    {
     "name": "stderr",
     "output_type": "stream",
     "text": [
      "C:\\ProgramData\\anaconda3\\lib\\site-packages\\statsmodels\\stats\\stattools.py:74: ValueWarning: omni_normtest is not valid with less than 8 observations; 6 samples were given.\n",
      "  warn(\"omni_normtest is not valid with less than 8 observations; %i \"\n"
     ]
    }
   ],
   "source": [
    "final_model = smf.ols(formula=\n",
    "\"\"\"Month ~ Amount + Domestic + sqrt_Amount + C(Country) \"\"\", data=train_df).fit()\n",
    "print(final_model.summary())"
   ]
  },
  {
   "cell_type": "code",
   "execution_count": 52,
   "id": "4462e3c7",
   "metadata": {},
   "outputs": [
    {
     "data": {
      "text/html": [
       "<div>\n",
       "<style scoped>\n",
       "    .dataframe tbody tr th:only-of-type {\n",
       "        vertical-align: middle;\n",
       "    }\n",
       "\n",
       "    .dataframe tbody tr th {\n",
       "        vertical-align: top;\n",
       "    }\n",
       "\n",
       "    .dataframe thead th {\n",
       "        text-align: right;\n",
       "    }\n",
       "</style>\n",
       "<table border=\"1\" class=\"dataframe\">\n",
       "  <thead>\n",
       "    <tr style=\"text-align: right;\">\n",
       "      <th></th>\n",
       "      <th>Predicted</th>\n",
       "      <th>Actual</th>\n",
       "    </tr>\n",
       "  </thead>\n",
       "  <tbody>\n",
       "    <tr>\n",
       "      <th>0</th>\n",
       "      <td>5.958364</td>\n",
       "      <td>770536.020</td>\n",
       "    </tr>\n",
       "    <tr>\n",
       "      <th>1</th>\n",
       "      <td>5.606799</td>\n",
       "      <td>691364.560</td>\n",
       "    </tr>\n",
       "    <tr>\n",
       "      <th>2</th>\n",
       "      <td>5.376226</td>\n",
       "      <td>719221.191</td>\n",
       "    </tr>\n",
       "    <tr>\n",
       "      <th>3</th>\n",
       "      <td>3.917995</td>\n",
       "      <td>537808.621</td>\n",
       "    </tr>\n",
       "    <tr>\n",
       "      <th>4</th>\n",
       "      <td>8.685988</td>\n",
       "      <td>1154979.300</td>\n",
       "    </tr>\n",
       "  </tbody>\n",
       "</table>\n",
       "</div>"
      ],
      "text/plain": [
       "   Predicted       Actual\n",
       "0   5.958364   770536.020\n",
       "1   5.606799   691364.560\n",
       "2   5.376226   719221.191\n",
       "3   3.917995   537808.621\n",
       "4   8.685988  1154979.300"
      ]
     },
     "execution_count": 52,
     "metadata": {},
     "output_type": "execute_result"
    }
   ],
   "source": [
    "test_predictions = final_model.get_prediction(test_df.iloc[:, 1:]).summary_frame(alpha=0.05)['mean'].tolist()\n",
    "test_actual = test_df.Amount.tolist()\n",
    "test_predictions_df = pd.DataFrame([test_predictions, test_actual]).T\n",
    "test_predictions_df.columns = ['Predicted', 'Actual']\n",
    "test_predictions_df.head()"
   ]
  },
  {
   "cell_type": "code",
   "execution_count": 53,
   "id": "75795329",
   "metadata": {},
   "outputs": [
    {
     "data": {
      "image/png": "[encoded data removed]",
      "text/plain": [
       "<Figure size 640x480 with 1 Axes>"
      ]
     },
     "metadata": {},
     "output_type": "display_data"
    }
   ],
   "source": [
    "import matplotlib.pyplot as plt\n",
    "\n",
    "# We have the housing data, let's do a quick scatter plot of price and the area\n",
    "plt.figure()\n",
    "# plot\n",
    "plt.scatter(test_predictions_df['Predicted'], test_predictions_df['Actual'], color='red', s=12)\n",
    "\n",
    "# add a label to the x axis\n",
    "plt.xlabel('Predicted')\n",
    "# add a label to the y axis\n",
    "plt.ylabel('Actual')\n",
    "# add a title\n",
    "plt.title('Predicted vs Actual');"
   ]
  },
  {
   "cell_type": "code",
   "execution_count": 54,
   "id": "c4391f9e",
   "metadata": {},
   "outputs": [
    {
     "data": {
      "text/plain": [
       "0.7495167369601801"
      ]
     },
     "execution_count": 54,
     "metadata": {},
     "output_type": "execute_result"
    }
   ],
   "source": [
    "result.rsquared"
   ]
  },
  {
   "cell_type": "code",
   "execution_count": 55,
   "id": "a0fa9232",
   "metadata": {},
   "outputs": [
    {
     "data": {
      "text/plain": [
       "0.0002729887243899839"
      ]
     },
     "execution_count": 55,
     "metadata": {},
     "output_type": "execute_result"
    }
   ],
   "source": [
    "result.f_pvalue"
   ]
  },
  {
   "cell_type": "code",
   "execution_count": 56,
   "id": "26c6dab5",
   "metadata": {},
   "outputs": [
    {
     "data": {
      "text/plain": [
       "0     0.578629\n",
       "1     0.000073\n",
       "2     0.048917\n",
       "3     0.060723\n",
       "4     0.000024\n",
       "5     0.012095\n",
       "6     0.071778\n",
       "7     0.145506\n",
       "8     0.002204\n",
       "9     0.000580\n",
       "10    0.421831\n",
       "11    0.178123\n",
       "Name: cooks_d, dtype: float64"
      ]
     },
     "execution_count": 56,
     "metadata": {},
     "output_type": "execute_result"
    }
   ],
   "source": [
    "infl = result.get_influence()\n",
    "cooks_distance = infl.summary_frame()['cooks_d']\n",
    "cooks_distance"
   ]
  },
  {
   "cell_type": "code",
   "execution_count": 70,
   "id": "494ca72b",
   "metadata": {},
   "outputs": [
    {
     "name": "stdout",
     "output_type": "stream",
     "text": [
      "      CustomerID    Amount  InvoiceNo  Month         Country  StockCode  Year  \\\n",
      "0        12346.0  77183.60          1      1  United Kingdom          1  2011   \n",
      "1        12347.0   4310.00          7     12         Iceland        103  2010   \n",
      "2        12348.0   1797.24          4     12         Finland         22  2010   \n",
      "3        12349.0   1757.55          1     11           Italy         73  2011   \n",
      "4        12350.0    334.40          1      2          Norway         17  2011   \n",
      "...          ...       ...        ...    ...             ...        ...   ...   \n",
      "4334     18280.0    180.60          1      3  United Kingdom         10  2011   \n",
      "4335     18281.0     80.82          1      6  United Kingdom          7  2011   \n",
      "4336     18282.0    178.05          2      8  United Kingdom         12  2011   \n",
      "4337     18283.0   2094.88         16      1  United Kingdom        263  2011   \n",
      "4338     18287.0   1837.28          3      5  United Kingdom         59  2011   \n",
      "\n",
      "      Domestic  sqrt_Amount  \n",
      "0            1   277.819366  \n",
      "1            0   836.716338  \n",
      "2            0   220.554567  \n",
      "3            0   331.473691  \n",
      "4            0    74.249810  \n",
      "...        ...          ...  \n",
      "4334         1    42.337447  \n",
      "4335         1    22.942599  \n",
      "4336         1    45.302932  \n",
      "4337         1  1171.152458  \n",
      "4338         1   338.182360  \n",
      "\n",
      "[4339 rows x 9 columns]\n"
     ]
    }
   ],
   "source": [
    "Customer_sale=Retail_df.groupby('CustomerID').agg({'Amount': 'sum', 'InvoiceNo': 'nunique', \n",
    "                                               \"Month\" : \"first\" , \"Country\": \"first\",\n",
    "                                              \"StockCode\" : \"nunique\",\"Year\": \"first\" , \"Domestic\" : \"first\",\n",
    "                                         'sqrt_Amount': 'sum',}).reset_index()\n",
    "print(Customer_sale)"
   ]
  },
  {
   "cell_type": "code",
   "execution_count": 71,
   "id": "fc6b97d8",
   "metadata": {},
   "outputs": [
    {
     "data": {
      "text/html": [
       "<div>\n",
       "<style scoped>\n",
       "    .dataframe tbody tr th:only-of-type {\n",
       "        vertical-align: middle;\n",
       "    }\n",
       "\n",
       "    .dataframe tbody tr th {\n",
       "        vertical-align: top;\n",
       "    }\n",
       "\n",
       "    .dataframe thead th {\n",
       "        text-align: right;\n",
       "    }\n",
       "</style>\n",
       "<table border=\"1\" class=\"dataframe\">\n",
       "  <thead>\n",
       "    <tr style=\"text-align: right;\">\n",
       "      <th></th>\n",
       "      <th>CustomerID</th>\n",
       "      <th>Amount</th>\n",
       "      <th>InvoiceNo</th>\n",
       "      <th>Month</th>\n",
       "      <th>Country</th>\n",
       "      <th>StockCode</th>\n",
       "      <th>Year</th>\n",
       "      <th>Domestic</th>\n",
       "      <th>sqrt_Amount</th>\n",
       "    </tr>\n",
       "  </thead>\n",
       "  <tbody>\n",
       "    <tr>\n",
       "      <th>0</th>\n",
       "      <td>12346.0</td>\n",
       "      <td>77183.60</td>\n",
       "      <td>1</td>\n",
       "      <td>1</td>\n",
       "      <td>United Kingdom</td>\n",
       "      <td>1</td>\n",
       "      <td>2011</td>\n",
       "      <td>1</td>\n",
       "      <td>277.819366</td>\n",
       "    </tr>\n",
       "    <tr>\n",
       "      <th>1</th>\n",
       "      <td>12347.0</td>\n",
       "      <td>4310.00</td>\n",
       "      <td>7</td>\n",
       "      <td>12</td>\n",
       "      <td>Iceland</td>\n",
       "      <td>103</td>\n",
       "      <td>2010</td>\n",
       "      <td>0</td>\n",
       "      <td>836.716338</td>\n",
       "    </tr>\n",
       "    <tr>\n",
       "      <th>2</th>\n",
       "      <td>12348.0</td>\n",
       "      <td>1797.24</td>\n",
       "      <td>4</td>\n",
       "      <td>12</td>\n",
       "      <td>Finland</td>\n",
       "      <td>22</td>\n",
       "      <td>2010</td>\n",
       "      <td>0</td>\n",
       "      <td>220.554567</td>\n",
       "    </tr>\n",
       "    <tr>\n",
       "      <th>3</th>\n",
       "      <td>12349.0</td>\n",
       "      <td>1757.55</td>\n",
       "      <td>1</td>\n",
       "      <td>11</td>\n",
       "      <td>Italy</td>\n",
       "      <td>73</td>\n",
       "      <td>2011</td>\n",
       "      <td>0</td>\n",
       "      <td>331.473691</td>\n",
       "    </tr>\n",
       "    <tr>\n",
       "      <th>4</th>\n",
       "      <td>12350.0</td>\n",
       "      <td>334.40</td>\n",
       "      <td>1</td>\n",
       "      <td>2</td>\n",
       "      <td>Norway</td>\n",
       "      <td>17</td>\n",
       "      <td>2011</td>\n",
       "      <td>0</td>\n",
       "      <td>74.249810</td>\n",
       "    </tr>\n",
       "  </tbody>\n",
       "</table>\n",
       "</div>"
      ],
      "text/plain": [
       "   CustomerID    Amount  InvoiceNo  Month         Country  StockCode  Year  \\\n",
       "0     12346.0  77183.60          1      1  United Kingdom          1  2011   \n",
       "1     12347.0   4310.00          7     12         Iceland        103  2010   \n",
       "2     12348.0   1797.24          4     12         Finland         22  2010   \n",
       "3     12349.0   1757.55          1     11           Italy         73  2011   \n",
       "4     12350.0    334.40          1      2          Norway         17  2011   \n",
       "\n",
       "   Domestic  sqrt_Amount  \n",
       "0         1   277.819366  \n",
       "1         0   836.716338  \n",
       "2         0   220.554567  \n",
       "3         0   331.473691  \n",
       "4         0    74.249810  "
      ]
     },
     "execution_count": 71,
     "metadata": {},
     "output_type": "execute_result"
    }
   ],
   "source": [
    "Customer_sale.head()"
   ]
  },
  {
   "cell_type": "code",
   "execution_count": 77,
   "id": "05b6900a",
   "metadata": {},
   "outputs": [
    {
     "name": "stdout",
     "output_type": "stream",
     "text": [
      "Mean: 2053.793017746025\n",
      "Mode: 76.32000000000001\n",
      "Median: 674.45\n"
     ]
    }
   ],
   "source": [
    "mean_value = Customer_sale['Amount'].mean()\n",
    "mode_value = Customer_sale['Amount'].mode().iloc[0]  # mode() returns a DataFrame, use iloc[0] to get the first mode\n",
    "median_value = Customer_sale['Amount'].median()\n",
    "\n",
    "# Display the results\n",
    "print(f\"Mean: {mean_value}\")\n",
    "print(f\"Mode: {mode_value}\")\n",
    "print(f\"Median: {median_value}\")"
   ]
  },
  {
   "cell_type": "code",
   "execution_count": 80,
   "id": "1af62788",
   "metadata": {},
   "outputs": [
    {
     "data": {
      "text/html": [
       "<div>\n",
       "<style scoped>\n",
       "    .dataframe tbody tr th:only-of-type {\n",
       "        vertical-align: middle;\n",
       "    }\n",
       "\n",
       "    .dataframe tbody tr th {\n",
       "        vertical-align: top;\n",
       "    }\n",
       "\n",
       "    .dataframe thead th {\n",
       "        text-align: right;\n",
       "    }\n",
       "</style>\n",
       "<table border=\"1\" class=\"dataframe\">\n",
       "  <thead>\n",
       "    <tr style=\"text-align: right;\">\n",
       "      <th></th>\n",
       "      <th>CustomerID</th>\n",
       "      <th>Amount</th>\n",
       "      <th>InvoiceNo</th>\n",
       "      <th>Month</th>\n",
       "      <th>Country</th>\n",
       "      <th>StockCode</th>\n",
       "      <th>Year</th>\n",
       "      <th>Domestic</th>\n",
       "      <th>sqrt_Amount</th>\n",
       "      <th>Customer type</th>\n",
       "    </tr>\n",
       "  </thead>\n",
       "  <tbody>\n",
       "    <tr>\n",
       "      <th>0</th>\n",
       "      <td>12346.0</td>\n",
       "      <td>77183.60</td>\n",
       "      <td>1</td>\n",
       "      <td>1</td>\n",
       "      <td>United Kingdom</td>\n",
       "      <td>1</td>\n",
       "      <td>2011</td>\n",
       "      <td>1</td>\n",
       "      <td>277.819366</td>\n",
       "      <td>priority customer</td>\n",
       "    </tr>\n",
       "    <tr>\n",
       "      <th>1</th>\n",
       "      <td>12347.0</td>\n",
       "      <td>4310.00</td>\n",
       "      <td>7</td>\n",
       "      <td>12</td>\n",
       "      <td>Iceland</td>\n",
       "      <td>103</td>\n",
       "      <td>2010</td>\n",
       "      <td>0</td>\n",
       "      <td>836.716338</td>\n",
       "      <td>priority customer</td>\n",
       "    </tr>\n",
       "    <tr>\n",
       "      <th>2</th>\n",
       "      <td>12348.0</td>\n",
       "      <td>1797.24</td>\n",
       "      <td>4</td>\n",
       "      <td>12</td>\n",
       "      <td>Finland</td>\n",
       "      <td>22</td>\n",
       "      <td>2010</td>\n",
       "      <td>0</td>\n",
       "      <td>220.554567</td>\n",
       "      <td>Non-regular</td>\n",
       "    </tr>\n",
       "    <tr>\n",
       "      <th>3</th>\n",
       "      <td>12349.0</td>\n",
       "      <td>1757.55</td>\n",
       "      <td>1</td>\n",
       "      <td>11</td>\n",
       "      <td>Italy</td>\n",
       "      <td>73</td>\n",
       "      <td>2011</td>\n",
       "      <td>0</td>\n",
       "      <td>331.473691</td>\n",
       "      <td>Non-regular</td>\n",
       "    </tr>\n",
       "    <tr>\n",
       "      <th>4</th>\n",
       "      <td>12350.0</td>\n",
       "      <td>334.40</td>\n",
       "      <td>1</td>\n",
       "      <td>2</td>\n",
       "      <td>Norway</td>\n",
       "      <td>17</td>\n",
       "      <td>2011</td>\n",
       "      <td>0</td>\n",
       "      <td>74.249810</td>\n",
       "      <td>Non-regular</td>\n",
       "    </tr>\n",
       "  </tbody>\n",
       "</table>\n",
       "</div>"
      ],
      "text/plain": [
       "   CustomerID    Amount  InvoiceNo  Month         Country  StockCode  Year  \\\n",
       "0     12346.0  77183.60          1      1  United Kingdom          1  2011   \n",
       "1     12347.0   4310.00          7     12         Iceland        103  2010   \n",
       "2     12348.0   1797.24          4     12         Finland         22  2010   \n",
       "3     12349.0   1757.55          1     11           Italy         73  2011   \n",
       "4     12350.0    334.40          1      2          Norway         17  2011   \n",
       "\n",
       "   Domestic  sqrt_Amount      Customer type  \n",
       "0         1   277.819366  priority customer  \n",
       "1         0   836.716338  priority customer  \n",
       "2         0   220.554567        Non-regular  \n",
       "3         0   331.473691        Non-regular  \n",
       "4         0    74.249810        Non-regular  "
      ]
     },
     "execution_count": 80,
     "metadata": {},
     "output_type": "execute_result"
    }
   ],
   "source": [
    "Customer_sale['Customer type'] = np.where((Customer_sale['Amount']>2000) , \"priority customer\", \"Non-regular\")\n",
    "Customer_sale.head()"
   ]
  },
  {
   "cell_type": "code",
   "execution_count": 92,
   "id": "d61b6505",
   "metadata": {},
   "outputs": [
    {
     "data": {
      "text/html": [
       "<div>\n",
       "<style scoped>\n",
       "    .dataframe tbody tr th:only-of-type {\n",
       "        vertical-align: middle;\n",
       "    }\n",
       "\n",
       "    .dataframe tbody tr th {\n",
       "        vertical-align: top;\n",
       "    }\n",
       "\n",
       "    .dataframe thead th {\n",
       "        text-align: right;\n",
       "    }\n",
       "</style>\n",
       "<table border=\"1\" class=\"dataframe\">\n",
       "  <thead>\n",
       "    <tr style=\"text-align: right;\">\n",
       "      <th></th>\n",
       "      <th>Customer type</th>\n",
       "    </tr>\n",
       "  </thead>\n",
       "  <tbody>\n",
       "    <tr>\n",
       "      <th>Non-regular</th>\n",
       "      <td>3436</td>\n",
       "    </tr>\n",
       "    <tr>\n",
       "      <th>priority customer</th>\n",
       "      <td>903</td>\n",
       "    </tr>\n",
       "  </tbody>\n",
       "</table>\n",
       "</div>"
      ],
      "text/plain": [
       "                   Customer type\n",
       "Non-regular                 3436\n",
       "priority customer            903"
      ]
     },
     "execution_count": 92,
     "metadata": {},
     "output_type": "execute_result"
    }
   ],
   "source": [
    "pd.DataFrame(Customer_sale['Customer type'].value_counts())"
   ]
  },
  {
   "cell_type": "code",
   "execution_count": 91,
   "id": "009a14f1",
   "metadata": {},
   "outputs": [
    {
     "data": {
      "text/plain": [
       "<Axes: >"
      ]
     },
     "execution_count": 91,
     "metadata": {},
     "output_type": "execute_result"
    },
    {
     "data": {
      "image/png": "[encoded data removed]",
      "text/plain": [
       "<Figure size 640x480 with 1 Axes>"
      ]
     },
     "metadata": {},
     "output_type": "display_data"
    }
   ],
   "source": [
    "pd.DataFrame(Customer_sale['Customer type'].value_counts()).plot(kind='bar')"
   ]
  },
  {
   "cell_type": "code",
   "execution_count": 64,
   "id": "36c9dcb3",
   "metadata": {},
   "outputs": [
    {
     "data": {
      "text/plain": [
       "<Figure size 640x480 with 0 Axes>"
      ]
     },
     "metadata": {},
     "output_type": "display_data"
    },
    {
     "data": {
      "image/png": "[encoded data removed]",
      "text/plain": [
       "<Figure size 640x480 with 1 Axes>"
      ]
     },
     "metadata": {},
     "output_type": "display_data"
    }
   ],
   "source": [
    "import matplotlib.pyplot as plt\n",
    "plt.figure()\n",
    "Customer_sale.plot(x='CustomerID', y='Amount' , kind=\"scatter\", legend=True, color='b' )\n",
    "plt.title('Line Graph of monthly sale')\n",
    "plt.xlabel('CustomerID')\n",
    "plt.ylabel('Amount')\n",
    "plt.show()"
   ]
  },
  {
   "cell_type": "code",
   "execution_count": null,
   "id": "3930024b",
   "metadata": {},
   "outputs": [],
   "source": []
  },
  {
   "cell_type": "code",
   "execution_count": null,
   "id": "9cc21c06",
   "metadata": {},
   "outputs": [],
   "source": []
  }
 ],
 "metadata": {
  "kernelspec": {
   "display_name": "Python 3 (ipykernel)",
   "language": "python",
   "name": "python3"
  },
  "language_info": {
   "codemirror_mode": {
    "name": "ipython",
    "version": 3
   },
   "file_extension": ".py",
   "mimetype": "text/x-python",
   "name": "python",
   "nbconvert_exporter": "python",
   "pygments_lexer": "ipython3",
   "version": "3.10.9"
  }
 },
 "nbformat": 4,
 "nbformat_minor": 5
}
